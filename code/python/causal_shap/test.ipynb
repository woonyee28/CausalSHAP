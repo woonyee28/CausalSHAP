{
 "cells": [
  {
   "cell_type": "markdown",
   "metadata": {},
   "source": [
    "Global Score for Causal SHAP IBS"
   ]
  },
  {
   "cell_type": "code",
   "execution_count": 33,
   "metadata": {},
   "outputs": [
    {
     "name": "stdout",
     "output_type": "stream",
     "text": [
      "[{'xylose': np.float64(0.14148265471196314), 'xanthosine': np.float64(0.0018015195116561462), 'uracil': np.float64(-0.0058156159290696325), 'ribulose/xylulose': np.float64(0.03853922308869769), 'valylglutamine': np.float64(-0.00041513023957153106), 'tryptophylglycine': np.float64(0.0005679225155662201), 'succinate': np.float64(-0.03205775976381568), 'valine betaine': np.float64(0.027949149114343524), 'ursodeoxycholate sulfate (1)': np.float64(7.026059695047335e-05), 'tricarballylate': np.float64(0.0006420994000578663), 'succinimide': np.float64(-0.00029781811723972963), 'thymine': np.float64(-0.0029820161614509226), 'syringic acid': np.float64(4.156094724588505e-05), 'serotonin': np.float64(0.10951437016443413), 'ribitol': np.float64(0.005021032124745758)}, {'xylose': np.float64(0.08605359050093922), 'xanthosine': np.float64(0.0022162541307095478), 'uracil': np.float64(-0.0024667580064970562), 'ribulose/xylulose': np.float64(0.10883440294053695), 'valylglutamine': np.float64(-4.846107801073657e-06), 'tryptophylglycine': np.float64(0.0012502945829782684), 'succinate': np.float64(-0.003961460458749033), 'valine betaine': np.float64(0.003069419616243705), 'ursodeoxycholate sulfate (1)': np.float64(-4.894765732152147e-05), 'tricarballylate': np.float64(-0.0003007195647486529), 'succinimide': np.float64(-0.0049263495316130175), 'thymine': np.float64(0.00026316928174544495), 'syringic acid': np.float64(0.00015306389973401764), 'serotonin': np.float64(-0.030691221279402766), 'ribitol': np.float64(0.004242591363790809)}, {'xylose': np.float64(0.11713981558954181), 'xanthosine': np.float64(-0.00038274766270107816), 'uracil': np.float64(0.013626163105183895), 'ribulose/xylulose': np.float64(0.06165067353604624), 'valylglutamine': np.float64(0.00017632455835222554), 'tryptophylglycine': np.float64(0.0018538762961707545), 'succinate': np.float64(-0.014158936985500263), 'valine betaine': np.float64(0.03991911175315114), 'ursodeoxycholate sulfate (1)': np.float64(0.0002613499337052082), 'tricarballylate': np.float64(-0.0010136409413714815), 'succinimide': np.float64(8.935072496211657e-05), 'thymine': np.float64(0.03001517149618688), 'syringic acid': np.float64(-0.00025757588230883186), 'serotonin': np.float64(-0.05570766984143274), 'ribitol': np.float64(0.0030069323162732332)}, {'xylose': np.float64(0.09325551209667732), 'xanthosine': np.float64(-0.00023055594693148192), 'uracil': np.float64(-0.00032151414314390505), 'ribulose/xylulose': np.float64(0.09323840111019309), 'valylglutamine': np.float64(-0.0001927879417822891), 'tryptophylglycine': np.float64(-0.0007980559468204738), 'succinate': np.float64(-0.005632646994855023), 'valine betaine': np.float64(0.013493419742782396), 'ursodeoxycholate sulfate (1)': np.float64(0.00016094446583261664), 'tricarballylate': np.float64(0.0003108029927352965), 'succinimide': np.float64(-0.002427155876450054), 'thymine': np.float64(0.002756969392478516), 'syringic acid': np.float64(0.0004079170227061284), 'serotonin': np.float64(-0.00819191468093984), 'ribitol': np.float64(0.003823386513301035)}, {'xylose': np.float64(0.13667463112765205), 'xanthosine': np.float64(-0.0004233677211255611), 'uracil': np.float64(-0.03070030847688425), 'ribulose/xylulose': np.float64(0.11202438623459433), 'valylglutamine': np.float64(-0.0006695353133415189), 'tryptophylglycine': np.float64(0.0016082791564851384), 'succinate': np.float64(-0.016285056484855644), 'valine betaine': np.float64(0.03521963456285857), 'ursodeoxycholate sulfate (1)': np.float64(1.7956896993496186e-05), 'tricarballylate': np.float64(1.2071358547681474e-06), 'succinimide': np.float64(-0.0017880499173812984), 'thymine': np.float64(-0.031380622925483506), 'syringic acid': np.float64(0.00033363836500990217), 'serotonin': np.float64(0.03910140002683877), 'ribitol': np.float64(-0.00314297879794012)}, {'xylose': np.float64(-0.09199298912562058), 'xanthosine': np.float64(-0.0001530761507837054), 'uracil': np.float64(-0.013056010680822815), 'ribulose/xylulose': np.float64(-0.06552597672978708), 'valylglutamine': np.float64(0.00016493496189327975), 'tryptophylglycine': np.float64(-0.0004855498147690803), 'succinate': np.float64(-0.012047499267675114), 'valine betaine': np.float64(0.015541170583533988), 'ursodeoxycholate sulfate (1)': np.float64(-5.886938369762824e-05), 'tricarballylate': np.float64(0.00019385465737603038), 'succinimide': np.float64(-0.0017280041101943309), 'thymine': np.float64(0.005968574403356773), 'syringic acid': np.float64(-0.00034497629685423367), 'serotonin': np.float64(0.025783629891097826), 'ribitol': np.float64(-0.002582681607460847)}, {'xylose': np.float64(-0.028580033180115236), 'xanthosine': np.float64(0.0005028680488229046), 'uracil': np.float64(-0.02794645644101772), 'ribulose/xylulose': np.float64(-0.06351280650647644), 'valylglutamine': np.float64(-0.00013702224087646888), 'tryptophylglycine': np.float64(-0.0008308248062230505), 'succinate': np.float64(0.0022439629206904297), 'valine betaine': np.float64(-0.026256037785686148), 'ursodeoxycholate sulfate (1)': np.float64(-0.00010202616096431328), 'tricarballylate': np.float64(-5.8177011561935154e-05), 'succinimide': np.float64(0.0007284806282873431), 'thymine': np.float64(-0.007605478415623139), 'syringic acid': np.float64(-6.151099174754739e-05), 'serotonin': np.float64(0.046229803869057416), 'ribitol': np.float64(0.002666948133185137)}, {'xylose': np.float64(0.04298748741628841), 'xanthosine': np.float64(-0.0010183699862276853), 'uracil': np.float64(0.001466271361039411), 'ribulose/xylulose': np.float64(0.03253578345863463), 'valylglutamine': np.float64(8.978640356643428e-05), 'tryptophylglycine': np.float64(0.00039098770827777234), 'succinate': np.float64(0.0020180402313900135), 'valine betaine': np.float64(-0.013515795081663269), 'ursodeoxycholate sulfate (1)': np.float64(-3.11355107987905e-05), 'tricarballylate': np.float64(-7.275385226194297e-05), 'succinimide': np.float64(-0.00011412945781861504), 'thymine': np.float64(0.0018938957225716972), 'syringic acid': np.float64(0.00015129975624635447), 'serotonin': np.float64(-0.002654725175815772), 'ribitol': np.float64(-0.00011677833050264142)}, {'xylose': np.float64(-0.015161062870196494), 'xanthosine': np.float64(-0.0002484191446418168), 'uracil': np.float64(0.0034144155205196145), 'ribulose/xylulose': np.float64(-0.026288619314159774), 'valylglutamine': np.float64(-2.464718008937685e-06), 'tryptophylglycine': np.float64(0.00022148383521486417), 'succinate': np.float64(-0.004066505320245794), 'valine betaine': np.float64(0.002363924736847212), 'ursodeoxycholate sulfate (1)': np.float64(4.332968449880743e-05), 'tricarballylate': np.float64(-4.8003835869444096e-05), 'succinimide': np.float64(-0.00023758546441895038), 'thymine': np.float64(0.003928194116338472), 'syringic acid': np.float64(2.5144344224997216e-05), 'serotonin': np.float64(0.006685339682628264), 'ribitol': np.float64(-0.0001887510342498175)}, {'xylose': np.float64(0.12330915312075219), 'xanthosine': np.float64(0.0008761652462749294), 'uracil': np.float64(-0.0057820655433988965), 'ribulose/xylulose': np.float64(0.09986316114421942), 'valylglutamine': np.float64(-8.5273812430542e-05), 'tryptophylglycine': np.float64(0.0025137726968441744), 'succinate': np.float64(0.007899495560744478), 'valine betaine': np.float64(0.012427251198849642), 'ursodeoxycholate sulfate (1)': np.float64(-8.289722403606844e-05), 'tricarballylate': np.float64(0.0001612068867427419), 'succinimide': np.float64(0.0010582188258102215), 'thymine': np.float64(0.007404856165756377), 'syringic acid': np.float64(-3.237855286548639e-05), 'serotonin': np.float64(0.035989804747774655), 'ribitol': np.float64(-0.004421320083826288)}, {'xylose': np.float64(0.08840780486084972), 'xanthosine': np.float64(-0.000455662595779505), 'uracil': np.float64(0.00879570090308049), 'ribulose/xylulose': np.float64(0.07690824406614238), 'valylglutamine': np.float64(-0.00012512201408016515), 'tryptophylglycine': np.float64(0.0012800934833580024), 'succinate': np.float64(0.01123700994644967), 'valine betaine': np.float64(-0.017092894051844738), 'ursodeoxycholate sulfate (1)': np.float64(0.00018618901488827943), 'tricarballylate': np.float64(3.803218954305546e-05), 'succinimide': np.float64(-0.002039242254617711), 'thymine': np.float64(0.01655749121211803), 'syringic acid': np.float64(0.0007650906514256872), 'serotonin': np.float64(0.0002636930303906082), 'ribitol': np.float64(0.000128674316240318)}, {'xylose': np.float64(0.12886025655502464), 'xanthosine': np.float64(-0.0029798706623093718), 'uracil': np.float64(-0.004464066744827562), 'ribulose/xylulose': np.float64(0.11425383997878338), 'valylglutamine': np.float64(-0.00041358892626420856), 'tryptophylglycine': np.float64(-0.0006137293814774422), 'succinate': np.float64(0.011628499394352603), 'valine betaine': np.float64(0.011224237101072626), 'ursodeoxycholate sulfate (1)': np.float64(-0.00017397571681492625), 'tricarballylate': np.float64(-0.00039509167502169547), 'succinimide': np.float64(0.002092873416940923), 'thymine': np.float64(-0.006526857750884), 'syringic acid': np.float64(0.0005379318350239172), 'serotonin': np.float64(-0.03581320337510569), 'ribitol': np.float64(-0.0016061989093766678)}, {'xylose': np.float64(-0.09538125806555126), 'xanthosine': np.float64(-0.0011392405912291894), 'uracil': np.float64(-0.02878361348775119), 'ribulose/xylulose': np.float64(-0.20017391908863175), 'valylglutamine': np.float64(0.0010095716024142874), 'tryptophylglycine': np.float64(-1.2510787527832245e-05), 'succinate': np.float64(0.0027024450719318007), 'valine betaine': np.float64(-0.09904293933722874), 'ursodeoxycholate sulfate (1)': np.float64(0.00013868185889230755), 'tricarballylate': np.float64(2.7297621681321002e-05), 'succinimide': np.float64(-0.0028124337338527147), 'thymine': np.float64(-0.023180721595178276), 'syringic acid': np.float64(-0.000834588285203532), 'serotonin': np.float64(-0.04090199326831112), 'ribitol': np.float64(0.005397070875455921)}, {'xylose': np.float64(0.11125489597099827), 'xanthosine': np.float64(-0.0002922657915580144), 'uracil': np.float64(0.010429878139813695), 'ribulose/xylulose': np.float64(0.12693189018314235), 'valylglutamine': np.float64(0.00017253006352263583), 'tryptophylglycine': np.float64(0.0025720067155245224), 'succinate': np.float64(0.024683476937755012), 'valine betaine': np.float64(-0.0014041419572626427), 'ursodeoxycholate sulfate (1)': np.float64(0.00013976633895658976), 'tricarballylate': np.float64(-0.0003194440133315173), 'succinimide': np.float64(0.006290352543339085), 'thymine': np.float64(0.02085907938623812), 'syringic acid': np.float64(-7.07849187799895e-05), 'serotonin': np.float64(-0.03763489975251811), 'ribitol': np.float64(0.0034272867218478388)}, {'xylose': np.float64(0.013939385442093307), 'xanthosine': np.float64(-9.090794443485187e-06), 'uracil': np.float64(0.001037581071826073), 'ribulose/xylulose': np.float64(0.013444799593052077), 'valylglutamine': np.float64(2.7535217006796532e-06), 'tryptophylglycine': np.float64(0.00014940092612367525), 'succinate': np.float64(-0.00178294174846339), 'valine betaine': np.float64(-0.0047130832709366965), 'ursodeoxycholate sulfate (1)': np.float64(-4.980385665956933e-06), 'tricarballylate': np.float64(2.2738446017961904e-05), 'succinimide': np.float64(0.0003066322549616247), 'thymine': np.float64(-0.000582260316265121), 'syringic acid': np.float64(-1.1489954233220269e-05), 'serotonin': np.float64(0.0033419620554460895), 'ribitol': np.float64(-0.0006732088449542949)}, {'xylose': np.float64(0.005766051538996289), 'xanthosine': np.float64(0.0003262134335288377), 'uracil': np.float64(0.0005056493265027836), 'ribulose/xylulose': np.float64(0.005487730631829575), 'valylglutamine': np.float64(-2.0584142340930937e-05), 'tryptophylglycine': np.float64(-9.113257951494833e-05), 'succinate': np.float64(-0.00019571969403798855), 'valine betaine': np.float64(-0.002299758703107866), 'ursodeoxycholate sulfate (1)': np.float64(3.6465144953402844e-08), 'tricarballylate': np.float64(-3.151642399997805e-05), 'succinimide': np.float64(-0.00014456400576756863), 'thymine': np.float64(-0.00014346046451422652), 'syringic acid': np.float64(-2.2970872841399826e-05), 'serotonin': np.float64(0.001222312538059202), 'ribitol': np.float64(0.00015752999594142729)}, {'xylose': np.float64(-0.11185388326371726), 'xanthosine': np.float64(-0.0027557618852429343), 'uracil': np.float64(0.026276303310438162), 'ribulose/xylulose': np.float64(-0.12138242730088104), 'valylglutamine': np.float64(0.0003929468597018762), 'tryptophylglycine': np.float64(-0.00027785952556914304), 'succinate': np.float64(-0.02058583408835754), 'valine betaine': np.float64(0.029350571927364177), 'ursodeoxycholate sulfate (1)': np.float64(-0.00018969241561462313), 'tricarballylate': np.float64(-0.0004676459731404745), 'succinimide': np.float64(-0.0024400074292004552), 'thymine': np.float64(-0.0028546590940546966), 'syringic acid': np.float64(0.0001500980101953459), 'serotonin': np.float64(-0.0494755104352969), 'ribitol': np.float64(-0.00548193276385727)}, {'xylose': np.float64(0.04372290742027026), 'xanthosine': np.float64(-0.0009183543725342163), 'uracil': np.float64(-0.0010996551678431627), 'ribulose/xylulose': np.float64(0.0525763113906789), 'valylglutamine': np.float64(0.0001178458915704852), 'tryptophylglycine': np.float64(-0.0006356257419174652), 'succinate': np.float64(0.0039906454271936695), 'valine betaine': np.float64(-0.020081936318763247), 'ursodeoxycholate sulfate (1)': np.float64(2.527602713750785e-05), 'tricarballylate': np.float64(-7.740304190746307e-05), 'succinimide': np.float64(-0.00048265665628383347), 'thymine': np.float64(0.0011429958275405985), 'syringic acid': np.float64(1.805824109168574e-05), 'serotonin': np.float64(0.008855562233575462), 'ribitol': np.float64(-0.0018524398302165544)}, {'xylose': np.float64(0.07240782206515813), 'xanthosine': np.float64(-0.003948030022401247), 'uracil': np.float64(-0.004692762218211307), 'ribulose/xylulose': np.float64(0.07524547764207469), 'valylglutamine': np.float64(8.505159852185814e-05), 'tryptophylglycine': np.float64(-0.0005641379019459814), 'succinate': np.float64(-0.004084261050525868), 'valine betaine': np.float64(-0.0017859171935254708), 'ursodeoxycholate sulfate (1)': np.float64(-0.0001602949384778807), 'tricarballylate': np.float64(-0.00023890548008887672), 'succinimide': np.float64(-0.001681311132205918), 'thymine': np.float64(-0.008243252810421852), 'syringic acid': np.float64(0.0006312814397015905), 'serotonin': np.float64(-0.01776822749346349), 'ribitol': np.float64(-0.005287905936500462)}, {'xylose': np.float64(-0.064628218185923), 'xanthosine': np.float64(0.0008654026393518563), 'uracil': np.float64(-0.008000267793808743), 'ribulose/xylulose': np.float64(0.03134186745746548), 'valylglutamine': np.float64(6.719744862677195e-05), 'tryptophylglycine': np.float64(0.0006456345747954022), 'succinate': np.float64(0.006268325007772326), 'valine betaine': np.float64(-0.006712997603484096), 'ursodeoxycholate sulfate (1)': np.float64(9.267109465385895e-05), 'tricarballylate': np.float64(7.424581653891707e-05), 'succinimide': np.float64(0.0012291762615535009), 'thymine': np.float64(-0.006111793917918737), 'syringic acid': np.float64(-0.00019295419234785047), 'serotonin': np.float64(0.0110240343751953), 'ribitol': np.float64(0.0043016625595756475)}, {'xylose': np.float64(0.0808545452078879), 'xanthosine': np.float64(-0.0031182181429330207), 'uracil': np.float64(-0.011025081602281004), 'ribulose/xylulose': np.float64(0.07401713829610723), 'valylglutamine': np.float64(-0.0001758200600348723), 'tryptophylglycine': np.float64(-0.0010163174470329572), 'succinate': np.float64(0.016127603557307746), 'valine betaine': np.float64(-0.0010954504665643024), 'ursodeoxycholate sulfate (1)': np.float64(-0.00013320854841287872), 'tricarballylate': np.float64(0.0004200691645509928), 'succinimide': np.float64(-0.002118998418823859), 'thymine': np.float64(0.002416716470663665), 'syringic acid': np.float64(-0.0006898873865811333), 'serotonin': np.float64(-0.015055434967738044), 'ribitol': np.float64(0.006016891546492667)}, {'xylose': np.float64(0.09670809955475616), 'xanthosine': np.float64(0.0006338918260132507), 'uracil': np.float64(-0.0034915956478060494), 'ribulose/xylulose': np.float64(0.07989583764942049), 'valylglutamine': np.float64(-0.0001766284427942949), 'tryptophylglycine': np.float64(0.0010012400372680177), 'succinate': np.float64(0.021033587988615796), 'valine betaine': np.float64(0.01777967612111952), 'ursodeoxycholate sulfate (1)': np.float64(6.684849792234574e-05), 'tricarballylate': np.float64(-9.378826995947587e-05), 'succinimide': np.float64(0.003158420171063628), 'thymine': np.float64(0.013413829313819825), 'syringic acid': np.float64(0.0002024291806781395), 'serotonin': np.float64(0.03402781613237595), 'ribitol': np.float64(-0.005328370878138981)}, {'xylose': np.float64(1.888601476207693), 'xanthosine': np.float64(0.04394586749662109), 'uracil': np.float64(-0.17091854823937655), 'ribulose/xylulose': np.float64(-2.0977031130319452), 'valylglutamine': np.float64(-0.03807465075399263), 'tryptophylglycine': np.float64(-0.01121589552168845), 'succinate': np.float64(-0.042005637409928256), 'valine betaine': np.float64(1.207622884128057), 'ursodeoxycholate sulfate (1)': np.float64(0.006588373005873507), 'tricarballylate': np.float64(-0.013832812741017315), 'succinimide': np.float64(0.029029734469099764), 'thymine': np.float64(0.2568751837191379), 'syringic acid': np.float64(-0.0017161657825390637), 'serotonin': np.float64(-1.0596916303776125), 'ribitol': np.float64(-0.254221390981647)}, {'xylose': np.float64(-0.1773719702889281), 'xanthosine': np.float64(0.0016235067789627858), 'uracil': np.float64(-0.03306906962382959), 'ribulose/xylulose': np.float64(0.08121605085326036), 'valylglutamine': np.float64(0.0010834986548157997), 'tryptophylglycine': np.float64(-0.00031322439792533767), 'succinate': np.float64(-0.03801984661002497), 'valine betaine': np.float64(-0.036074270456884105), 'ursodeoxycholate sulfate (1)': np.float64(-0.0008492923002304516), 'tricarballylate': np.float64(-0.0004214667935613843), 'succinimide': np.float64(-0.0060838121222716824), 'thymine': np.float64(-0.07801996602167241), 'syringic acid': np.float64(-0.0018333274950561866), 'serotonin': np.float64(0.17701525187512315), 'ribitol': np.float64(0.01778851689686213)}, {'xylose': np.float64(0.11126737692843389), 'xanthosine': np.float64(-4.44875285578423e-05), 'uracil': np.float64(0.020576228844044545), 'ribulose/xylulose': np.float64(0.09880412656600913), 'valylglutamine': np.float64(3.6209808566163445e-06), 'tryptophylglycine': np.float64(0.002070200191265461), 'succinate': np.float64(0.006828421689047523), 'valine betaine': np.float64(0.034331993628215283), 'ursodeoxycholate sulfate (1)': np.float64(-0.00011889932492880385), 'tricarballylate': np.float64(-0.00022049541956986645), 'succinimide': np.float64(-0.00046039712058203386), 'thymine': np.float64(0.035613622855543335), 'syringic acid': np.float64(0.00044225641161143935), 'serotonin': np.float64(-0.002793621615913028), 'ribitol': np.float64(0.006102774720307435)}, {'xylose': np.float64(0.10986915850710828), 'xanthosine': np.float64(-0.0011337085192008056), 'uracil': np.float64(0.014011445034393243), 'ribulose/xylulose': np.float64(0.11926682281893101), 'valylglutamine': np.float64(0.00099756040449256), 'tryptophylglycine': np.float64(0.00022102429382961708), 'succinate': np.float64(0.012713512439561462), 'valine betaine': np.float64(-0.019744628493979118), 'ursodeoxycholate sulfate (1)': np.float64(-0.0005225785354998591), 'tricarballylate': np.float64(-0.00014743308291210723), 'succinimide': np.float64(-0.00045908729204407545), 'thymine': np.float64(-0.008504531212380522), 'syringic acid': np.float64(1.6738440246995355e-05), 'serotonin': np.float64(0.029860511920285434), 'ribitol': np.float64(0.0024936293686652)}, {'xylose': np.float64(-0.008898621831983587), 'xanthosine': np.float64(0.00023711613650735815), 'uracil': np.float64(0.0012398738243613121), 'ribulose/xylulose': np.float64(0.012928624222233162), 'valylglutamine': np.float64(-4.9312794148945604e-05), 'tryptophylglycine': np.float64(-0.00027911161315424105), 'succinate': np.float64(-1.2930962036203247e-05), 'valine betaine': np.float64(-0.0010022399909910243), 'ursodeoxycholate sulfate (1)': np.float64(1.0663062111669831e-05), 'tricarballylate': np.float64(1.131397609431291e-05), 'succinimide': np.float64(0.0005692738302242816), 'thymine': np.float64(0.0006033524840062332), 'syringic acid': np.float64(2.9400490671291637e-06), 'serotonin': np.float64(-0.0018976550728987353), 'ribitol': np.float64(0.0012787222006759818)}, {'xylose': np.float64(0.10295558572131529), 'xanthosine': np.float64(0.00033182817266337095), 'uracil': np.float64(0.0030784409442836894), 'ribulose/xylulose': np.float64(0.09055168060587224), 'valylglutamine': np.float64(0.000324485837737603), 'tryptophylglycine': np.float64(-0.0009440816751149989), 'succinate': np.float64(0.007601046949956443), 'valine betaine': np.float64(-0.0003156588016173682), 'ursodeoxycholate sulfate (1)': np.float64(6.524720270319274e-05), 'tricarballylate': np.float64(0.0005227323396964948), 'succinimide': np.float64(8.342269651250429e-05), 'thymine': np.float64(0.005859693686705928), 'syringic acid': np.float64(0.0002211972375036723), 'serotonin': np.float64(0.005706927500203341), 'ribitol': np.float64(-0.0029433980412096406)}, {'xylose': np.float64(-0.3191945089671209), 'xanthosine': np.float64(-0.001233572531555738), 'uracil': np.float64(-0.012037174723489792), 'ribulose/xylulose': np.float64(0.3465567985902005), 'valylglutamine': np.float64(-0.0023372376091928527), 'tryptophylglycine': np.float64(0.006435930378324441), 'succinate': np.float64(0.0028124629286693497), 'valine betaine': np.float64(-0.11706860430051153), 'ursodeoxycholate sulfate (1)': np.float64(0.0002776840468806453), 'tricarballylate': np.float64(0.0006792399209436981), 'succinimide': np.float64(0.0064190875116796175), 'thymine': np.float64(-0.04519707300060771), 'syringic acid': np.float64(-0.0011253245765564556), 'serotonin': np.float64(-0.058942845063499796), 'ribitol': np.float64(0.008260636979397327)}, {'xylose': np.float64(-0.13005881949725412), 'xanthosine': np.float64(-0.007028810160151387), 'uracil': np.float64(-0.012724328956290679), 'ribulose/xylulose': np.float64(-0.13785041849504384), 'valylglutamine': np.float64(-0.0006585713180172682), 'tryptophylglycine': np.float64(0.002958583052408697), 'succinate': np.float64(-0.04009621579581611), 'valine betaine': np.float64(-0.043346246689059016), 'ursodeoxycholate sulfate (1)': np.float64(-0.0003933590580241299), 'tricarballylate': np.float64(-0.0008465607470862474), 'succinimide': np.float64(0.005805828476244364), 'thymine': np.float64(-0.030905500473371407), 'syringic acid': np.float64(0.00022909041295853986), 'serotonin': np.float64(-0.091206714642171), 'ribitol': np.float64(-0.015814520017829185)}, {'xylose': np.float64(-0.1165868058300261), 'xanthosine': np.float64(-0.007946682999803702), 'uracil': np.float64(-0.02080549555517834), 'ribulose/xylulose': np.float64(-0.14279621782502128), 'valylglutamine': np.float64(-0.0021504998796914635), 'tryptophylglycine': np.float64(0.0010912180213713605), 'succinate': np.float64(-0.013051281844764624), 'valine betaine': np.float64(0.021942036390669488), 'ursodeoxycholate sulfate (1)': np.float64(-0.00034272946785349017), 'tricarballylate': np.float64(-0.0015344366775763294), 'succinimide': np.float64(0.00023182648516249907), 'thymine': np.float64(0.01492466674417647), 'syringic acid': np.float64(-0.0022058000490531274), 'serotonin': np.float64(-0.023108236471720146), 'ribitol': np.float64(0.009020922669853682)}, {'xylose': np.float64(-0.19688790108504148), 'xanthosine': np.float64(0.0030428996634295023), 'uracil': np.float64(0.01648079027273319), 'ribulose/xylulose': np.float64(-0.021759882064090727), 'valylglutamine': np.float64(-0.0036377012268684387), 'tryptophylglycine': np.float64(-0.008365530142968576), 'succinate': np.float64(-0.1165625953936284), 'valine betaine': np.float64(-0.09999712886991696), 'ursodeoxycholate sulfate (1)': np.float64(0.00042938300331360366), 'tricarballylate': np.float64(-0.0003962678796845002), 'succinimide': np.float64(-0.00553839931857828), 'thymine': np.float64(0.010326231172562898), 'syringic acid': np.float64(-7.441378090575738e-05), 'serotonin': np.float64(0.05182382546024089), 'ribitol': np.float64(0.006424173899947915)}, {'xylose': np.float64(1.7196293771962716), 'xanthosine': np.float64(-0.0018910920365470482), 'uracil': np.float64(-0.09232886192208949), 'ribulose/xylulose': np.float64(-2.1290695924815015), 'valylglutamine': np.float64(0.0006430679101275537), 'tryptophylglycine': np.float64(0.010631387505356206), 'succinate': np.float64(-0.04571338114807085), 'valine betaine': np.float64(-0.2623737135471354), 'ursodeoxycholate sulfate (1)': np.float64(-0.0014982564037300879), 'tricarballylate': np.float64(-0.0015591675003545833), 'succinimide': np.float64(0.04045635579831085), 'thymine': np.float64(-0.09165438153758122), 'syringic acid': np.float64(0.0035264399093204377), 'serotonin': np.float64(0.6269523482781868), 'ribitol': np.float64(0.032574810832838946)}, {'xylose': np.float64(0.044711978538971964), 'xanthosine': np.float64(-0.0024166622332750976), 'uracil': np.float64(-0.0016203903974182216), 'ribulose/xylulose': np.float64(0.056595204698561975), 'valylglutamine': np.float64(0.0001633090188282072), 'tryptophylglycine': np.float64(0.000559401903245314), 'succinate': np.float64(-0.00021600567084932633), 'valine betaine': np.float64(-0.007188369344448994), 'ursodeoxycholate sulfate (1)': np.float64(-1.8665362639862097e-05), 'tricarballylate': np.float64(8.60253766969145e-06), 'succinimide': np.float64(0.00012233092144210627), 'thymine': np.float64(0.0007952866523299959), 'syringic acid': np.float64(-0.0002544202697397506), 'serotonin': np.float64(0.012139568393618396), 'ribitol': np.float64(0.0003013143242486006)}, {'xylose': np.float64(0.11267866015007563), 'xanthosine': np.float64(-0.0008822555333561465), 'uracil': np.float64(0.016310047498792533), 'ribulose/xylulose': np.float64(0.10872049816071849), 'valylglutamine': np.float64(0.0001738297908591516), 'tryptophylglycine': np.float64(0.0013132467346855874), 'succinate': np.float64(0.011015278717532145), 'valine betaine': np.float64(0.00622497442275725), 'ursodeoxycholate sulfate (1)': np.float64(-8.799020533102242e-05), 'tricarballylate': np.float64(-0.0002354268066376321), 'succinimide': np.float64(0.0006514517776313525), 'thymine': np.float64(0.024552505604382255), 'syringic acid': np.float64(0.0004258892264805896), 'serotonin': np.float64(-0.023509252349221393), 'ribitol': np.float64(0.003926264616414305)}, {'xylose': np.float64(-0.1413276755270947), 'xanthosine': np.float64(0.00034466902959368517), 'uracil': np.float64(-0.011141486095871202), 'ribulose/xylulose': np.float64(-0.17216286955971566), 'valylglutamine': np.float64(0.0007217070342655235), 'tryptophylglycine': np.float64(0.0014729247871566938), 'succinate': np.float64(-0.01234135146037392), 'valine betaine': np.float64(-0.08177028888483565), 'ursodeoxycholate sulfate (1)': np.float64(0.000746340456288845), 'tricarballylate': np.float64(-0.0008916567610557966), 'succinimide': np.float64(0.0011241975585320983), 'thymine': np.float64(0.02150388008901598), 'syringic acid': np.float64(0.0012977855186132085), 'serotonin': np.float64(-0.10012995807402025), 'ribitol': np.float64(-0.003120877257096976)}, {'xylose': np.float64(-0.15137801903174955), 'xanthosine': np.float64(-0.007989731155227858), 'uracil': np.float64(-0.04577435731828401), 'ribulose/xylulose': np.float64(-0.08688080915109637), 'valylglutamine': np.float64(-0.00017586164072852625), 'tryptophylglycine': np.float64(0.0017159034157816268), 'succinate': np.float64(-0.008775184837445547), 'valine betaine': np.float64(-0.09302930276174863), 'ursodeoxycholate sulfate (1)': np.float64(-0.0005040491020977382), 'tricarballylate': np.float64(0.00019603135895086203), 'succinimide': np.float64(-0.00035787714078232215), 'thymine': np.float64(-0.03615236615174142), 'syringic acid': np.float64(0.0005193959697532229), 'serotonin': np.float64(-0.05660323155109163), 'ribitol': np.float64(-0.00606258100147098)}, {'xylose': np.float64(0.11732710623894207), 'xanthosine': np.float64(-0.0018873012520178119), 'uracil': np.float64(0.01579261091175846), 'ribulose/xylulose': np.float64(0.12914931594469228), 'valylglutamine': np.float64(-0.00021235527576582316), 'tryptophylglycine': np.float64(0.0016021006833209438), 'succinate': np.float64(0.007155046418895267), 'valine betaine': np.float64(-0.028878576227040077), 'ursodeoxycholate sulfate (1)': np.float64(0.0001670902940811361), 'tricarballylate': np.float64(-0.0005550580703327572), 'succinimide': np.float64(0.004164504496206615), 'thymine': np.float64(0.003095625967929281), 'syringic acid': np.float64(-0.00016556473532329608), 'serotonin': np.float64(0.0062190482432144), 'ribitol': np.float64(-0.004862538499444615)}, {'xylose': np.float64(-0.24444940756885666), 'xanthosine': np.float64(-0.008417162400737635), 'uracil': np.float64(0.039153820895006096), 'ribulose/xylulose': np.float64(0.0379992117546684), 'valylglutamine': np.float64(0.0032227536973543167), 'tryptophylglycine': np.float64(0.0005750169444041551), 'succinate': np.float64(-0.03927289483711313), 'valine betaine': np.float64(-0.13140341631480001), 'ursodeoxycholate sulfate (1)': np.float64(-0.0008683533140872692), 'tricarballylate': np.float64(-0.0014968958241921822), 'succinimide': np.float64(0.0014680333541540744), 'thymine': np.float64(-0.023857549533197096), 'syringic acid': np.float64(-0.001685516401982185), 'serotonin': np.float64(-0.08282241727010861), 'ribitol': np.float64(-0.00042107280330075153)}, {'xylose': np.float64(-0.08014531295346998), 'xanthosine': np.float64(0.00424458581053124), 'uracil': np.float64(-0.01670221450278547), 'ribulose/xylulose': np.float64(-0.13881838935235277), 'valylglutamine': np.float64(0.00047865369109731365), 'tryptophylglycine': np.float64(0.0021531402806520853), 'succinate': np.float64(-0.007358933982558259), 'valine betaine': np.float64(-0.02826152759585682), 'ursodeoxycholate sulfate (1)': np.float64(0.00017975502614265925), 'tricarballylate': np.float64(-0.0001381838976539935), 'succinimide': np.float64(-0.004018750221698988), 'thymine': np.float64(-0.0174379360036801), 'syringic acid': np.float64(-0.0004105430550209548), 'serotonin': np.float64(0.0008490364117887018), 'ribitol': np.float64(-0.008061848325542029)}, {'xylose': np.float64(-0.08841780703754744), 'xanthosine': np.float64(-0.00034688611475069357), 'uracil': np.float64(-0.034020485665378734), 'ribulose/xylulose': np.float64(-0.16386043209237214), 'valylglutamine': np.float64(0.0007299424965122928), 'tryptophylglycine': np.float64(-0.00019773256892153775), 'succinate': np.float64(-0.016565709842909886), 'valine betaine': np.float64(-0.07362516061072728), 'ursodeoxycholate sulfate (1)': np.float64(0.00021073392517435502), 'tricarballylate': np.float64(0.00015956653734758793), 'succinimide': np.float64(-0.0006813854902009326), 'thymine': np.float64(-0.043826206368796146), 'syringic acid': np.float64(-0.0010192648669301876), 'serotonin': np.float64(-0.04742397598778011), 'ribitol': np.float64(0.003347049302587565)}, {'xylose': np.float64(-0.23098931937808329), 'xanthosine': np.float64(-0.0008944367398740739), 'uracil': np.float64(-0.0028012609262473764), 'ribulose/xylulose': np.float64(-0.10407093030210436), 'valylglutamine': np.float64(0.0021337768960332034), 'tryptophylglycine': np.float64(0.0005813983989052102), 'succinate': np.float64(-0.0043422424685658455), 'valine betaine': np.float64(-0.0242423877029567), 'ursodeoxycholate sulfate (1)': np.float64(-8.555668509743196e-05), 'tricarballylate': np.float64(-0.0009488244340832931), 'succinimide': np.float64(0.008066119987691822), 'thymine': np.float64(-0.0032013036863303584), 'syringic acid': np.float64(-0.0006726695609785791), 'serotonin': np.float64(-0.04968000458266545), 'ribitol': np.float64(-0.015372256057479565)}, {'xylose': np.float64(-0.255507501812742), 'xanthosine': np.float64(-0.011924371829005078), 'uracil': np.float64(0.012465806489583287), 'ribulose/xylulose': np.float64(-0.19786060016774615), 'valylglutamine': np.float64(0.001618255651201295), 'tryptophylglycine': np.float64(-0.00021188166988851467), 'succinate': np.float64(-0.0010660112481458504), 'valine betaine': np.float64(-0.022930102042700386), 'ursodeoxycholate sulfate (1)': np.float64(-0.00027016808294311347), 'tricarballylate': np.float64(8.4031964255974e-05), 'succinimide': np.float64(0.007179951229247258), 'thymine': np.float64(0.01515908465140412), 'syringic acid': np.float64(-0.0013242881730122541), 'serotonin': np.float64(-0.07010386249800724), 'ribitol': np.float64(-0.029613953989051544)}, {'xylose': np.float64(0.14325117170831506), 'xanthosine': np.float64(0.00016388052795613184), 'uracil': np.float64(0.005729943067327098), 'ribulose/xylulose': np.float64(0.13835939297141464), 'valylglutamine': np.float64(5.374979089268873e-05), 'tryptophylglycine': np.float64(0.0003257352071303729), 'succinate': np.float64(-0.02794254372556327), 'valine betaine': np.float64(-0.0021906883766433486), 'ursodeoxycholate sulfate (1)': np.float64(-0.00017101969110716643), 'tricarballylate': np.float64(0.00038589000623061927), 'succinimide': np.float64(-0.002487500415960934), 'thymine': np.float64(0.0006554511260252307), 'syringic acid': np.float64(0.00010297248458322029), 'serotonin': np.float64(0.028408093405626552), 'ribitol': np.float64(-0.001801330089967745)}, {'xylose': np.float64(0.11383539497672802), 'xanthosine': np.float64(0.0017726117474491927), 'uracil': np.float64(0.00857310400016682), 'ribulose/xylulose': np.float64(0.06009747849765642), 'valylglutamine': np.float64(-0.0014082349406612622), 'tryptophylglycine': np.float64(0.002280287618126515), 'succinate': np.float64(-0.005524104587716454), 'valine betaine': np.float64(0.014154936273789158), 'ursodeoxycholate sulfate (1)': np.float64(0.0006023671711882127), 'tricarballylate': np.float64(-0.0002591383247833062), 'succinimide': np.float64(0.0008739363101535292), 'thymine': np.float64(-0.01787773914899287), 'syringic acid': np.float64(0.0005286290414709907), 'serotonin': np.float64(0.012788228191770837), 'ribitol': np.float64(-0.0008981302586580585)}, {'xylose': np.float64(0.13543318344085747), 'xanthosine': np.float64(-0.0003187284575866523), 'uracil': np.float64(-0.009034112317412654), 'ribulose/xylulose': np.float64(0.10856570211981559), 'valylglutamine': np.float64(-0.00011001666856875446), 'tryptophylglycine': np.float64(0.002196593161033907), 'succinate': np.float64(0.01520146838255774), 'valine betaine': np.float64(0.02302376849537227), 'ursodeoxycholate sulfate (1)': np.float64(-5.98349554871243e-05), 'tricarballylate': np.float64(0.00026958976018603915), 'succinimide': np.float64(-0.0011998193131583913), 'thymine': np.float64(0.010810468763221127), 'syringic acid': np.float64(0.0008357580606072931), 'serotonin': np.float64(0.032521815530066465), 'ribitol': np.float64(0.001629981042373933)}, {'xylose': np.float64(-0.3164188534449106), 'xanthosine': np.float64(-0.0014072686317514857), 'uracil': np.float64(-0.0012851425438114607), 'ribulose/xylulose': np.float64(0.25422465259312094), 'valylglutamine': np.float64(-0.0008985472328170164), 'tryptophylglycine': np.float64(-0.0036059233007815026), 'succinate': np.float64(0.006584030369033221), 'valine betaine': np.float64(-0.051874667550436626), 'ursodeoxycholate sulfate (1)': np.float64(-0.00038910143160712844), 'tricarballylate': np.float64(0.00047776526802110835), 'succinimide': np.float64(-0.004299201489564022), 'thymine': np.float64(-0.11651679543034435), 'syringic acid': np.float64(0.0007002809824562356), 'serotonin': np.float64(-0.13520482369283565), 'ribitol': np.float64(-0.016110269959575985)}, {'xylose': np.float64(-0.06323690178434496), 'xanthosine': np.float64(0.0047925612333879625), 'uracil': np.float64(0.0803745419941594), 'ribulose/xylulose': np.float64(-0.0723004416477254), 'valylglutamine': np.float64(0.001127672385070146), 'tryptophylglycine': np.float64(-0.0013803681266218479), 'succinate': np.float64(-0.005589878636348389), 'valine betaine': np.float64(-0.04937902599597884), 'ursodeoxycholate sulfate (1)': np.float64(9.161289483906957e-05), 'tricarballylate': np.float64(-0.00024237541102769086), 'succinimide': np.float64(-0.003191606284469273), 'thymine': np.float64(-0.1251353512000096), 'syringic acid': np.float64(-0.00046378284776471307), 'serotonin': np.float64(-0.09725027682227913), 'ribitol': np.float64(0.002067294435848588)}, {'xylose': np.float64(0.10349171516778678), 'xanthosine': np.float64(0.000786000637519275), 'uracil': np.float64(0.01246443787979576), 'ribulose/xylulose': np.float64(0.12430170322871885), 'valylglutamine': np.float64(-0.00015737927526024298), 'tryptophylglycine': np.float64(-0.0002759144015783698), 'succinate': np.float64(0.014992097470661003), 'valine betaine': np.float64(-0.04496558763066573), 'ursodeoxycholate sulfate (1)': np.float64(-0.00012084072399559607), 'tricarballylate': np.float64(0.00048756001401857016), 'succinimide': np.float64(-0.0005784463069503821), 'thymine': np.float64(0.01596745280407792), 'syringic acid': np.float64(-0.00023924968278317757), 'serotonin': np.float64(0.036626421584748506), 'ribitol': np.float64(0.0038906081825470415)}, {'xylose': np.float64(0.05182362873802939), 'xanthosine': np.float64(-0.00013421637168427997), 'uracil': np.float64(-0.001047448503326739), 'ribulose/xylulose': np.float64(0.03082042787439975), 'valylglutamine': np.float64(-1.6238945485137468e-05), 'tryptophylglycine': np.float64(0.0007494901943073044), 'succinate': np.float64(-0.00032766898076895507), 'valine betaine': np.float64(-0.014988538189327555), 'ursodeoxycholate sulfate (1)': np.float64(-7.89693959233398e-05), 'tricarballylate': np.float64(-1.318831486328921e-05), 'succinimide': np.float64(0.00013081224346912342), 'thymine': np.float64(-0.0015228548785951185), 'syringic acid': np.float64(-6.523707569465597e-05), 'serotonin': np.float64(-0.008311810602279835), 'ribitol': np.float64(0.0009797721087645207)}, {'xylose': np.float64(-0.18669518412853345), 'xanthosine': np.float64(-0.002795053348980553), 'uracil': np.float64(0.008724862882524196), 'ribulose/xylulose': np.float64(-0.10656808575937528), 'valylglutamine': np.float64(-5.759176191325908e-05), 'tryptophylglycine': np.float64(-0.001928768054722415), 'succinate': np.float64(-0.013417106207933772), 'valine betaine': np.float64(-0.0778525326795915), 'ursodeoxycholate sulfate (1)': np.float64(0.00015019711600586642), 'tricarballylate': np.float64(-0.000416407649951367), 'succinimide': np.float64(-0.0033945864021957916), 'thymine': np.float64(-0.018584106823263887), 'syringic acid': np.float64(-0.0012752334384163121), 'serotonin': np.float64(-0.07990071225437265), 'ribitol': np.float64(-0.002025461746988945)}, {'xylose': np.float64(0.04628208137589018), 'xanthosine': np.float64(0.00018268673425783877), 'uracil': np.float64(0.0007095109798210822), 'ribulose/xylulose': np.float64(0.030112529106202886), 'valylglutamine': np.float64(-9.379963093150786e-05), 'tryptophylglycine': np.float64(0.00016531354734981765), 'succinate': np.float64(-0.002164706614497518), 'valine betaine': np.float64(-0.013929500106420958), 'ursodeoxycholate sulfate (1)': np.float64(4.165476067279864e-05), 'tricarballylate': np.float64(2.748685135321607e-05), 'succinimide': np.float64(-0.0002901595861618593), 'thymine': np.float64(-0.002122360322568285), 'syringic acid': np.float64(-7.704884219820949e-05), 'serotonin': np.float64(0.0012567737495383603), 'ribitol': np.float64(0.001784402660618037)}, {'xylose': np.float64(-0.4723410454277841), 'xanthosine': np.float64(-0.0020924669167374037), 'uracil': np.float64(0.03158627686030915), 'ribulose/xylulose': np.float64(0.26559829662471246), 'valylglutamine': np.float64(-0.0011952416181333567), 'tryptophylglycine': np.float64(-0.0022063810532334796), 'succinate': np.float64(-0.02025475336908488), 'valine betaine': np.float64(-0.11870855021683109), 'ursodeoxycholate sulfate (1)': np.float64(-0.0009539940911499441), 'tricarballylate': np.float64(-0.0007913360248063662), 'succinimide': np.float64(-0.004710899465711029), 'thymine': np.float64(0.010192803556445211), 'syringic acid': np.float64(0.0002809110537203784), 'serotonin': np.float64(-0.10079978029957885), 'ribitol': np.float64(-0.0012665939968300411)}, {'xylose': np.float64(-0.16463177368274384), 'xanthosine': np.float64(-0.00020282716265077272), 'uracil': np.float64(0.009117806960195225), 'ribulose/xylulose': np.float64(-0.1535229416681057), 'valylglutamine': np.float64(0.0007618887392452638), 'tryptophylglycine': np.float64(-0.002617389283469501), 'succinate': np.float64(-0.004650838742994389), 'valine betaine': np.float64(-0.057434052573219416), 'ursodeoxycholate sulfate (1)': np.float64(7.359480758593865e-05), 'tricarballylate': np.float64(-0.0004794937213185371), 'succinimide': np.float64(-0.017352334815171264), 'thymine': np.float64(-0.04783787705840285), 'syringic acid': np.float64(-0.0009638886590938332), 'serotonin': np.float64(-0.06603701913727181), 'ribitol': np.float64(0.001737407485738182)}, {'xylose': np.float64(-0.11000496915071195), 'xanthosine': np.float64(-0.0028681611029860595), 'uracil': np.float64(0.02063441972751788), 'ribulose/xylulose': np.float64(-0.09569294860212026), 'valylglutamine': np.float64(0.0011953852093752949), 'tryptophylglycine': np.float64(0.00014286854895934284), 'succinate': np.float64(0.004675146680966402), 'valine betaine': np.float64(0.005213718078639833), 'ursodeoxycholate sulfate (1)': np.float64(0.00043729409749555684), 'tricarballylate': np.float64(-0.00029079692384825984), 'succinimide': np.float64(0.005834330227955231), 'thymine': np.float64(-0.04043435430190912), 'syringic acid': np.float64(0.0005097177578197836), 'serotonin': np.float64(-0.004560626181498404), 'ribitol': np.float64(-0.0002573498789199141)}, {'xylose': np.float64(0.12041796700980402), 'xanthosine': np.float64(-0.0007807493878045415), 'uracil': np.float64(0.004105194822177157), 'ribulose/xylulose': np.float64(0.03595260159627868), 'valylglutamine': np.float64(-0.0003142424569283585), 'tryptophylglycine': np.float64(0.0013644852507919772), 'succinate': np.float64(0.011123493100053805), 'valine betaine': np.float64(-0.01562741894259718), 'ursodeoxycholate sulfate (1)': np.float64(-0.0006353940026612848), 'tricarballylate': np.float64(-0.0002570382464172089), 'succinimide': np.float64(-0.00043921821472379084), 'thymine': np.float64(0.009488623714875478), 'syringic acid': np.float64(0.0007221884102016087), 'serotonin': np.float64(0.034034442997791695), 'ribitol': np.float64(-0.00013118209902728093)}, {'xylose': np.float64(0.15165117281425194), 'xanthosine': np.float64(0.00514198899013453), 'uracil': np.float64(0.0038222185533283944), 'ribulose/xylulose': np.float64(0.15297342195325195), 'valylglutamine': np.float64(-0.0006929604891564393), 'tryptophylglycine': np.float64(0.001276986895130136), 'succinate': np.float64(-0.00196080357550274), 'valine betaine': np.float64(0.00954675113964164), 'ursodeoxycholate sulfate (1)': np.float64(-0.0001917287469723718), 'tricarballylate': np.float64(2.635496240860019e-05), 'succinimide': np.float64(-0.003917696431359707), 'thymine': np.float64(-0.007386805556373948), 'syringic acid': np.float64(0.00028183021820508156), 'serotonin': np.float64(-0.012674674668823516), 'ribitol': np.float64(0.010488808604762248)}, {'xylose': np.float64(0.11550474527734274), 'xanthosine': np.float64(-0.0032169312513393596), 'uracil': np.float64(0.02364265202560358), 'ribulose/xylulose': np.float64(0.08550747341011442), 'valylglutamine': np.float64(-0.00015206303395028396), 'tryptophylglycine': np.float64(0.0008909548283463351), 'succinate': np.float64(0.014644868298876908), 'valine betaine': np.float64(-0.01573293173478282), 'ursodeoxycholate sulfate (1)': np.float64(-0.000242974000315736), 'tricarballylate': np.float64(-0.00015432925211192187), 'succinimide': np.float64(0.003897349923013128), 'thymine': np.float64(0.025628425617789708), 'syringic acid': np.float64(2.601609464629539e-05), 'serotonin': np.float64(0.03213602572008504), 'ribitol': np.float64(-0.0016551315461066308)}, {'xylose': np.float64(0.033831483041555414), 'xanthosine': np.float64(-0.0003705165904856727), 'uracil': np.float64(0.00903244523129064), 'ribulose/xylulose': np.float64(0.052123983609944115), 'valylglutamine': np.float64(-0.00013160795491597765), 'tryptophylglycine': np.float64(-0.0004980240454107511), 'succinate': np.float64(0.0032804892107681895), 'valine betaine': np.float64(-0.013700302563401948), 'ursodeoxycholate sulfate (1)': np.float64(-0.0001835153490751351), 'tricarballylate': np.float64(7.436544691723664e-05), 'succinimide': np.float64(-0.0014620940160350647), 'thymine': np.float64(0.0007913223024226965), 'syringic acid': np.float64(2.1302125652909576e-05), 'serotonin': np.float64(0.06345487506850844), 'ribitol': np.float64(0.0007039924785241613)}, {'xylose': np.float64(-0.044020034383988965), 'xanthosine': np.float64(-0.0008852702043278961), 'uracil': np.float64(-0.0052251565247754695), 'ribulose/xylulose': np.float64(-0.015039842518459873), 'valylglutamine': np.float64(9.990362053167958e-05), 'tryptophylglycine': np.float64(-0.0006480263817631755), 'succinate': np.float64(-0.0010901763812671357), 'valine betaine': np.float64(-0.014570033840892685), 'ursodeoxycholate sulfate (1)': np.float64(8.80989864841641e-05), 'tricarballylate': np.float64(0.00018888022621601217), 'succinimide': np.float64(0.0010849796664820226), 'thymine': np.float64(0.0033720316389808454), 'syringic acid': np.float64(-3.382166166091413e-05), 'serotonin': np.float64(0.015108131520583523), 'ribitol': np.float64(0.0032528199484026113)}, {'xylose': np.float64(-0.17442377624711927), 'xanthosine': np.float64(-0.004710522942401955), 'uracil': np.float64(0.018088454663079026), 'ribulose/xylulose': np.float64(-0.14711752642801626), 'valylglutamine': np.float64(-0.0018740060778238757), 'tryptophylglycine': np.float64(0.0017080277280234818), 'succinate': np.float64(-0.010265554104519153), 'valine betaine': np.float64(-0.22217826089489653), 'ursodeoxycholate sulfate (1)': np.float64(-0.0007158058176882867), 'tricarballylate': np.float64(-0.0011066042887506221), 'succinimide': np.float64(-0.004915470893320639), 'thymine': np.float64(0.006729344081673703), 'syringic acid': np.float64(-0.0010316774308876916), 'serotonin': np.float64(-0.03148445781602982), 'ribitol': np.float64(-0.019519679820777118)}, {'xylose': np.float64(0.01918529966915784), 'xanthosine': np.float64(-0.0004926571665687528), 'uracil': np.float64(0.000836807608654899), 'ribulose/xylulose': np.float64(0.01747333695224014), 'valylglutamine': np.float64(-9.52731272482561e-06), 'tryptophylglycine': np.float64(-0.0002701837919077176), 'succinate': np.float64(0.0009615132405289723), 'valine betaine': np.float64(0.00012281855484559123), 'ursodeoxycholate sulfate (1)': np.float64(-2.0335256428562545e-05), 'tricarballylate': np.float64(-6.139232956465097e-05), 'succinimide': np.float64(-7.55517809441475e-05), 'thymine': np.float64(-0.002053560961020322), 'syringic acid': np.float64(-4.269031372986728e-05), 'serotonin': np.float64(-0.0007859557777236879), 'ribitol': np.float64(5.1467137634897986e-05)}, {'xylose': np.float64(0.1258571232042691), 'xanthosine': np.float64(0.0002943465392235666), 'uracil': np.float64(0.00033657288163949957), 'ribulose/xylulose': np.float64(0.10999270395751047), 'valylglutamine': np.float64(-0.0002522647367276375), 'tryptophylglycine': np.float64(-0.00043242951709347065), 'succinate': np.float64(0.00944407214415742), 'valine betaine': np.float64(0.0057939953421176724), 'ursodeoxycholate sulfate (1)': np.float64(4.068561205991415e-05), 'tricarballylate': np.float64(0.00022255837279212115), 'succinimide': np.float64(-0.000588849420876472), 'thymine': np.float64(-0.0015016432010358095), 'syringic acid': np.float64(0.00033195847639603355), 'serotonin': np.float64(0.011008780344314479), 'ribitol': np.float64(0.0015277308546550246)}, {'xylose': np.float64(0.09669228055354497), 'xanthosine': np.float64(5.2711995906900266e-05), 'uracil': np.float64(0.007545072419118243), 'ribulose/xylulose': np.float64(0.08335491889036059), 'valylglutamine': np.float64(-0.00017937290172229692), 'tryptophylglycine': np.float64(0.0005118098399729723), 'succinate': np.float64(0.014410274743542171), 'valine betaine': np.float64(-0.039154420274511124), 'ursodeoxycholate sulfate (1)': np.float64(-9.692805019439862e-05), 'tricarballylate': np.float64(0.00016084313112344782), 'succinimide': np.float64(0.0021652726059034548), 'thymine': np.float64(0.012091091413645168), 'syringic acid': np.float64(-0.000303106757724062), 'serotonin': np.float64(0.009122635387770433), 'ribitol': np.float64(-0.00448226595285815)}, {'xylose': np.float64(0.04240897512059223), 'xanthosine': np.float64(0.001901541312630116), 'uracil': np.float64(0.019883962020500058), 'ribulose/xylulose': np.float64(0.0551198648620713), 'valylglutamine': np.float64(-0.001237989529544787), 'tryptophylglycine': np.float64(-0.00041760488281253675), 'succinate': np.float64(0.011608742359869586), 'valine betaine': np.float64(0.013945757881381107), 'ursodeoxycholate sulfate (1)': np.float64(-0.0002463710138643296), 'tricarballylate': np.float64(-8.189233588219269e-05), 'succinimide': np.float64(0.0005009923812479806), 'thymine': np.float64(0.024434868093319014), 'syringic acid': np.float64(-0.00014283884434422068), 'serotonin': np.float64(0.038174850993673445), 'ribitol': np.float64(0.004234387196470143)}, {'xylose': np.float64(0.09997576788327245), 'xanthosine': np.float64(-0.002360657244286657), 'uracil': np.float64(0.008111730356034005), 'ribulose/xylulose': np.float64(0.1058632161207452), 'valylglutamine': np.float64(0.0008462551212770024), 'tryptophylglycine': np.float64(0.0008867185073879887), 'succinate': np.float64(-0.005513629954372066), 'valine betaine': np.float64(0.010339620554473707), 'ursodeoxycholate sulfate (1)': np.float64(-6.623120227793696e-05), 'tricarballylate': np.float64(0.0002173153564291948), 'succinimide': np.float64(0.0041620913106364225), 'thymine': np.float64(0.011018255655886227), 'syringic acid': np.float64(0.0007450394952268001), 'serotonin': np.float64(0.0362975533385), 'ribitol': np.float64(0.0019213431735171011)}, {'xylose': np.float64(0.1066463111870737), 'xanthosine': np.float64(0.002739015396228323), 'uracil': np.float64(0.007263628265505878), 'ribulose/xylulose': np.float64(0.10295971978448497), 'valylglutamine': np.float64(-0.0005353038127287605), 'tryptophylglycine': np.float64(-0.0010412293758630406), 'succinate': np.float64(0.008249364240006938), 'valine betaine': np.float64(-0.0013312667726380306), 'ursodeoxycholate sulfate (1)': np.float64(-0.00026078231251641394), 'tricarballylate': np.float64(0.0003468533049875425), 'succinimide': np.float64(-0.0007971234868730269), 'thymine': np.float64(0.004505742734880975), 'syringic acid': np.float64(1.64897907053782e-05), 'serotonin': np.float64(0.009188934595538567), 'ribitol': np.float64(0.007398796838418511)}, {'xylose': np.float64(0.0820409246653395), 'xanthosine': np.float64(-0.00011094848675715254), 'uracil': np.float64(-0.0007168319469298016), 'ribulose/xylulose': np.float64(0.09638750741356669), 'valylglutamine': np.float64(-7.670170996914051e-05), 'tryptophylglycine': np.float64(0.00034635223433322364), 'succinate': np.float64(0.012960356839629168), 'valine betaine': np.float64(-0.017627603079992196), 'ursodeoxycholate sulfate (1)': np.float64(0.0002195675911917675), 'tricarballylate': np.float64(8.765098956721505e-06), 'succinimide': np.float64(-0.0006479711238494415), 'thymine': np.float64(0.0114224554015449), 'syringic acid': np.float64(-0.0002049669633028201), 'serotonin': np.float64(0.026645582242380086), 'ribitol': np.float64(0.004690757439165246)}, {'xylose': np.float64(0.11301603505481303), 'xanthosine': np.float64(-0.0025070925035606674), 'uracil': np.float64(-0.0037872764552147864), 'ribulose/xylulose': np.float64(0.1142562477196621), 'valylglutamine': np.float64(-0.0003333383428061042), 'tryptophylglycine': np.float64(0.0020418931195899594), 'succinate': np.float64(0.033152018855828434), 'valine betaine': np.float64(-0.014190384111462829), 'ursodeoxycholate sulfate (1)': np.float64(-0.00022815616302151415), 'tricarballylate': np.float64(0.00036445117380502556), 'succinimide': np.float64(0.0037832119778701476), 'thymine': np.float64(-0.013535330326841016), 'syringic acid': np.float64(-9.425054226152522e-05), 'serotonin': np.float64(-0.03460630351935416), 'ribitol': np.float64(0.006961868884609785)}, {'xylose': np.float64(0.09680058442045866), 'xanthosine': np.float64(-0.001108766680151551), 'uracil': np.float64(-0.009103767427044461), 'ribulose/xylulose': np.float64(0.09680743106534556), 'valylglutamine': np.float64(7.176313777608027e-05), 'tryptophylglycine': np.float64(0.0010267588336300548), 'succinate': np.float64(0.01627593823943366), 'valine betaine': np.float64(0.021416469873856786), 'ursodeoxycholate sulfate (1)': np.float64(0.00038911162299730596), 'tricarballylate': np.float64(-8.851041180053621e-05), 'succinimide': np.float64(0.0032409531685033003), 'thymine': np.float64(0.007730069877728467), 'syringic acid': np.float64(-0.0008151850634733903), 'serotonin': np.float64(0.02545860769820862), 'ribitol': np.float64(-0.00091897464492379)}, {'xylose': np.float64(-0.19272782572712366), 'xanthosine': np.float64(-0.0031460222647254283), 'uracil': np.float64(-0.04124975701045737), 'ribulose/xylulose': np.float64(0.07558012483055593), 'valylglutamine': np.float64(-0.0011312919497257579), 'tryptophylglycine': np.float64(-0.003418146430923218), 'succinate': np.float64(-0.029677676010664355), 'valine betaine': np.float64(-0.01248650641527072), 'ursodeoxycholate sulfate (1)': np.float64(-0.0003929561198969609), 'tricarballylate': np.float64(-0.00013655752573312003), 'succinimide': np.float64(-0.00314308396594505), 'thymine': np.float64(-0.06345079620186933), 'syringic acid': np.float64(-0.0003492532984836744), 'serotonin': np.float64(-0.08416622741958828), 'ribitol': np.float64(-0.008939397922461331)}, {'xylose': np.float64(-0.2411246191699341), 'xanthosine': np.float64(-0.000821828294474189), 'uracil': np.float64(-0.01299971577796868), 'ribulose/xylulose': np.float64(-0.1775620117414018), 'valylglutamine': np.float64(-0.0007994129875722173), 'tryptophylglycine': np.float64(-0.0032972863936498627), 'succinate': np.float64(-0.015641596873344422), 'valine betaine': np.float64(-0.05942399621604219), 'ursodeoxycholate sulfate (1)': np.float64(-0.0004280531159823757), 'tricarballylate': np.float64(-0.00020927603437474686), 'succinimide': np.float64(-0.0051029855983908716), 'thymine': np.float64(-0.02232792911122228), 'syringic acid': np.float64(-0.0003382451730218075), 'serotonin': np.float64(-0.04647408651032954), 'ribitol': np.float64(0.010959717184444346)}, {'xylose': np.float64(-0.032660493497316624), 'xanthosine': np.float64(-0.00016601451549035158), 'uracil': np.float64(0.0005055604973608337), 'ribulose/xylulose': np.float64(-0.05909641243964224), 'valylglutamine': np.float64(0.00013250699894710164), 'tryptophylglycine': np.float64(-0.00026490874513622107), 'succinate': np.float64(-0.0030699881083726395), 'valine betaine': np.float64(0.009545540904847188), 'ursodeoxycholate sulfate (1)': np.float64(0.00016999222496406517), 'tricarballylate': np.float64(5.8053020442505634e-05), 'succinimide': np.float64(-0.0012063420416560443), 'thymine': np.float64(0.0001945065190757985), 'syringic acid': np.float64(0.00012442268898858456), 'serotonin': np.float64(0.013604528752514285), 'ribitol': np.float64(-0.0031765637870766)}, {'xylose': np.float64(-0.01580832133949812), 'xanthosine': np.float64(-0.00043458765515811255), 'uracil': np.float64(-0.0018578453482542311), 'ribulose/xylulose': np.float64(-0.021039897436904292), 'valylglutamine': np.float64(3.560382072652048e-06), 'tryptophylglycine': np.float64(0.00017358169203542237), 'succinate': np.float64(-0.006018232790552826), 'valine betaine': np.float64(0.004462707305553076), 'ursodeoxycholate sulfate (1)': np.float64(6.592886187931605e-05), 'tricarballylate': np.float64(-1.4131712747824828e-05), 'succinimide': np.float64(0.0001456615633175596), 'thymine': np.float64(0.0007850058746055631), 'syringic acid': np.float64(9.211486782649031e-05), 'serotonin': np.float64(0.00495670201461917), 'ribitol': np.float64(0.0013488088603224166)}]\n"
     ]
    }
   ],
   "source": [
    "import pickle\n",
    "\n",
    "# Define the path to the pickle file\n",
    "file_path = '../../../result/Causal_SHAP_IBS_456.pkl'\n",
    "\n",
    "# Load the data\n",
    "with open(file_path, 'rb') as f:\n",
    "    phi_normalized_list = pickle.load(f)\n",
    "\n",
    "# Print or inspect the loaded data\n",
    "print(phi_normalized_list)\n"
   ]
  },
  {
   "cell_type": "code",
   "execution_count": 34,
   "metadata": {},
   "outputs": [
    {
     "name": "stdout",
     "output_type": "stream",
     "text": [
      "{'xylose': np.float64(0.14148265471196314), 'xanthosine': np.float64(0.0018015195116561462), 'uracil': np.float64(-0.0058156159290696325), 'ribulose/xylulose': np.float64(0.03853922308869769), 'valylglutamine': np.float64(-0.00041513023957153106), 'tryptophylglycine': np.float64(0.0005679225155662201), 'succinate': np.float64(-0.03205775976381568), 'valine betaine': np.float64(0.027949149114343524), 'ursodeoxycholate sulfate (1)': np.float64(7.026059695047335e-05), 'tricarballylate': np.float64(0.0006420994000578663), 'succinimide': np.float64(-0.00029781811723972963), 'thymine': np.float64(-0.0029820161614509226), 'syringic acid': np.float64(4.156094724588505e-05), 'serotonin': np.float64(0.10951437016443413), 'ribitol': np.float64(0.005021032124745758)}\n"
     ]
    }
   ],
   "source": [
    "print(phi_normalized_list[0])"
   ]
  },
  {
   "cell_type": "code",
   "execution_count": 35,
   "metadata": {},
   "outputs": [
    {
     "name": "stdout",
     "output_type": "stream",
     "text": [
      "[('xylose', np.float64(0.16149886610084832)), ('ribulose/xylulose', np.float64(0.15125226147977863)), ('serotonin', np.float64(0.05847924581749287)), ('valine betaine', np.float64(0.05025168083788193)), ('thymine', np.float64(0.021627073480483903)), ('uracil', np.float64(0.015860090956949558)), ('succinate', np.float64(0.013363389721575608)), ('ribitol', np.float64(0.008482407060685588)), ('succinimide', np.float64(0.0033349212251750407)), ('xanthosine', np.float64(0.0024575893611374746)), ('tryptophylglycine', np.float64(0.0015227042112552723)), ('valylglutamine', np.float64(0.0010843002457708065)), ('tricarballylate', np.float64(0.0005110006779311907)), ('syringic acid', np.float64(0.0004981860958519981)), ('ursodeoxycholate sulfate (1)', np.float64(0.0003280757279722092))]\n"
     ]
    }
   ],
   "source": [
    "sums = {}\n",
    "counts = {}\n",
    "\n",
    "for instance in phi_normalized_list:\n",
    "    for metabolite, value in instance.items():\n",
    "        sums[metabolite] = sums.get(metabolite, 0) + abs(value)\n",
    "        counts[metabolite] = counts.get(metabolite, 0) + 1\n",
    "\n",
    "means = {metabolite: sums[metabolite] / counts[metabolite] for metabolite in sums}\n",
    "\n",
    "sorted_means = sorted(means.items(), key=lambda item: abs(item[1]), reverse=True)\n",
    "\n",
    "causal_output_list = [(metabolite, mean_value) for metabolite, mean_value in sorted_means]\n",
    "\n",
    "print(causal_output_list)"
   ]
  },
  {
   "cell_type": "markdown",
   "metadata": {},
   "source": [
    "Original SHAP"
   ]
  },
  {
   "cell_type": "code",
   "execution_count": 36,
   "metadata": {},
   "outputs": [],
   "source": [
    "import argparse\n",
    "from pathlib import Path\n",
    "from data_processing import DataProcessor\n",
    "from models import ModelTrainer\n",
    "from feature_selection import FeatureSelector\n",
    "from visualization import Visualizer\n",
    "from causal_inference import CausalInference\n",
    "import shap\n",
    "from sklearn.preprocessing import StandardScaler\n",
    "import numpy as np\n",
    "import pandas as pd\n",
    "import matplotlib\n",
    "from evaluation import iterative_feature_deletion_with_rmse, iterative_feature_addition_with_rmse\n",
    "\n",
    "import warnings\n",
    "warnings.filterwarnings(\"ignore\")\n",
    "\n"
   ]
  },
  {
   "cell_type": "code",
   "execution_count": 37,
   "metadata": {},
   "outputs": [
    {
     "name": "stdout",
     "output_type": "stream",
     "text": [
      "Starting ML Pipeline...\n",
      "Base directory set to: ../../../\n",
      "Loading data...\n",
      "Data loaded successfully.\n",
      "Encoding labels...\n",
      "Labels encoded successfully.\n"
     ]
    }
   ],
   "source": [
    "print(\"Starting ML Pipeline...\")\n",
    "base_dir = '../../../'\n",
    "print(f\"Base directory set to: {base_dir}\")\n",
    "\n",
    "data_path = base_dir + 'dataset/' + 'data_full.xlsx'\n",
    "raw_data_path = base_dir + 'dataset/' + 'result_raw.xlsx'\n",
    "result_dir = base_dir + 'result/R/'\n",
    "\n",
    "report_file_path = result_dir + 'report.txt'\n",
    "\n",
    "print(\"Loading data...\")\n",
    "data_processor = DataProcessor(data_path=str(data_path))\n",
    "df = data_processor.load_data_metabolites()\n",
    "print(\"Data loaded successfully.\")\n",
    "\n",
    "print(\"Encoding labels...\")\n",
    "df_encoded, label_encoder = data_processor.encode_labels(df, label_column='Group')\n",
    "print(\"Labels encoded successfully.\")\n",
    "X = df_encoded.drop(columns=['Group'])\n",
    "y = df_encoded['Group']"
   ]
  },
  {
   "cell_type": "code",
   "execution_count": 38,
   "metadata": {},
   "outputs": [
    {
     "name": "stdout",
     "output_type": "stream",
     "text": [
      "Training Random Forest model...\n",
      "Fitting 3 folds for each of 50 candidates, totalling 150 fits\n"
     ]
    }
   ],
   "source": [
    "X = X[[\"xylose\", \"xanthosine\", \"uracil\", \"ribulose/xylulose\", \"valylglutamine\", \"tryptophylglycine\", \"succinate\", \"valine betaine\", \"ursodeoxycholate sulfate (1)\", \"tricarballylate\",\"succinimide\", \"thymine\", \"syringic acid\", \"serotonin\", \"ribitol\" ]]\n",
    "\n",
    "y = df_encoded['Group']\n",
    "\n",
    "print(\"Training Random Forest model...\")\n",
    "param_dist = {\n",
    "    'n_estimators': [100, 200, 300],\n",
    "    'max_depth': [10, 20, 30, None],\n",
    "    'min_samples_split': [2, 5, 7],\n",
    "    'min_samples_leaf': [1, 2, 4]\n",
    "}\n",
    "model_trainer = ModelTrainer(X, y, random_state=456)\n",
    "model, best_params = model_trainer.train_random_forest(param_dist)"
   ]
  },
  {
   "cell_type": "code",
   "execution_count": 39,
   "metadata": {},
   "outputs": [
    {
     "name": "stdout",
     "output_type": "stream",
     "text": [
      "Applying SHAP for explainability...\n",
      "[('xylose', np.float64(0.08958445512378603)), ('ribulose/xylulose', np.float64(0.08626370182586471)), ('serotonin', np.float64(0.04826839788389861)), ('xanthosine', np.float64(0.02587966803306699)), ('succinate', np.float64(0.021902265883809377)), ('valine betaine', np.float64(0.01638332578043901)), ('succinimide', np.float64(0.014574887492840388)), ('tryptophylglycine', np.float64(0.01447617734898813)), ('ribitol', np.float64(0.012748171891676065)), ('tricarballylate', np.float64(0.010856002873288162)), ('syringic acid', np.float64(0.009819061418111232)), ('valylglutamine', np.float64(0.009290180740754295)), ('uracil', np.float64(0.007322421847802615)), ('thymine', np.float64(0.0048281132448028076)), ('ursodeoxycholate sulfate (1)', np.float64(0.0018655916490479285))]\n"
     ]
    }
   ],
   "source": [
    "print(\"Applying SHAP for explainability...\")\n",
    "\n",
    "explainer = shap.TreeExplainer(model, model_trainer.X_train)\n",
    "\n",
    "shap_values = explainer.shap_values(model_trainer.X_test)\n",
    "\n",
    "feature_names = model_trainer.X_test.columns\n",
    "\n",
    "mean_abs_shap_values = np.mean(np.abs(shap_values[1]), axis=1)\n",
    "\n",
    "shap_importance = list(zip(feature_names, mean_abs_shap_values))\n",
    "\n",
    "shap_importance_sorted = sorted(shap_importance, key=lambda x: x[1], reverse=True)\n",
    "\n",
    "shap_output_list = [(feature, importance) for feature, importance in shap_importance_sorted]\n",
    "\n",
    "print(shap_output_list)\n",
    "    \n"
   ]
  },
  {
   "cell_type": "code",
   "execution_count": 40,
   "metadata": {},
   "outputs": [
    {
     "name": "stdout",
     "output_type": "stream",
     "text": [
      "[('xylose', np.float64(0.16149886610084832)), ('ribulose/xylulose', np.float64(0.15125226147977863)), ('serotonin', np.float64(0.05847924581749287)), ('valine betaine', np.float64(0.05025168083788193)), ('thymine', np.float64(0.021627073480483903)), ('uracil', np.float64(0.015860090956949558)), ('succinate', np.float64(0.013363389721575608)), ('ribitol', np.float64(0.008482407060685588)), ('succinimide', np.float64(0.0033349212251750407)), ('xanthosine', np.float64(0.0024575893611374746)), ('tryptophylglycine', np.float64(0.0015227042112552723)), ('valylglutamine', np.float64(0.0010843002457708065)), ('tricarballylate', np.float64(0.0005110006779311907)), ('syringic acid', np.float64(0.0004981860958519981)), ('ursodeoxycholate sulfate (1)', np.float64(0.0003280757279722092))]\n",
      "[('xylose', np.float64(0.08958445512378603)), ('ribulose/xylulose', np.float64(0.08626370182586471)), ('serotonin', np.float64(0.04826839788389861)), ('xanthosine', np.float64(0.02587966803306699)), ('succinate', np.float64(0.021902265883809377)), ('valine betaine', np.float64(0.01638332578043901)), ('succinimide', np.float64(0.014574887492840388)), ('tryptophylglycine', np.float64(0.01447617734898813)), ('ribitol', np.float64(0.012748171891676065)), ('tricarballylate', np.float64(0.010856002873288162)), ('syringic acid', np.float64(0.009819061418111232)), ('valylglutamine', np.float64(0.009290180740754295)), ('uracil', np.float64(0.007322421847802615)), ('thymine', np.float64(0.0048281132448028076)), ('ursodeoxycholate sulfate (1)', np.float64(0.0018655916490479285))]\n"
     ]
    }
   ],
   "source": [
    "print(causal_output_list)\n",
    "print(shap_output_list)"
   ]
  },
  {
   "cell_type": "code",
   "execution_count": 41,
   "metadata": {},
   "outputs": [],
   "source": [
    "import numpy as np\n",
    "import pandas as pd\n",
    "from sklearn.metrics import mean_squared_error\n",
    "\n",
    "def iterative_feature_deletion_with_rmse_over_testset(model, X_test, attribution_scores, top_k=None):\n",
    "    \"\"\"\n",
    "    Iteratively deletes features based on attribution scores and computes the average RMSE over all instances in the test set.\n",
    "\n",
    "    Parameters:\n",
    "    - model: Trained Scikit-learn classifier.\n",
    "    - X_test (pd.DataFrame): Test set features.\n",
    "    - attribution_scores (dict): Feature attributions (e.g., SHAP values).\n",
    "    - top_k (int): Number of top features to delete. If None, deletes all features.\n",
    "\n",
    "    Returns:\n",
    "    - avg_rmse (float): Average RMSE after deletions over the test set.\n",
    "    \"\"\"\n",
    "    if top_k is None:\n",
    "        top_k = X_test.shape[1]\n",
    "\n",
    "    # Ensure attribution_scores is a dict\n",
    "    if not isinstance(attribution_scores, dict):\n",
    "        raise TypeError(\"Attribution scores must be a dictionary with feature names as keys and scores as values.\")\n",
    "\n",
    "    # Sort features by absolute attribution scores in descending order\n",
    "    sorted_features = sorted(X_test.columns, key=lambda x: -abs(attribution_scores.get(x, 0)))\n",
    "\n",
    "    # List to store RMSE values for each instance\n",
    "    rmse_values = []\n",
    "\n",
    "    # Iterate over each instance in the test set\n",
    "    for index, input_features in X_test.iterrows():\n",
    "        # Original prediction probability for class 1\n",
    "        y_predicted = model.predict_proba([input_features.values])[0][1]\n",
    "\n",
    "        # Copy the input features to modify\n",
    "        modified_input = input_features.copy().astype(float)\n",
    "\n",
    "        # List to store RMSE values at each step for this instance\n",
    "        instance_rmse_values = []\n",
    "\n",
    "        # Iteratively delete features and compute RMSE\n",
    "        for i in range(top_k):\n",
    "            feature_to_delete = sorted_features[i]\n",
    "            modified_input[feature_to_delete] = 0.0  # Set feature to zero\n",
    "            prediction = model.predict_proba([modified_input.values])[0][1]\n",
    "            rmse = np.sqrt(mean_squared_error([y_predicted], [prediction]))\n",
    "            instance_rmse_values.append(rmse)\n",
    "\n",
    "        # Average RMSE for this instance\n",
    "        instance_avg_rmse = np.mean(instance_rmse_values)\n",
    "        rmse_values.append(instance_avg_rmse)\n",
    "\n",
    "    # Compute overall average RMSE across all instances\n",
    "    overall_avg_rmse = np.mean(rmse_values)\n",
    "    return overall_avg_rmse\n",
    "\n",
    "\n",
    "def iterative_feature_addition_with_rmse_over_testset(model, X_test, attribution_scores, top_k=None):\n",
    "    \"\"\"\n",
    "    Iteratively adds features based on attribution scores and computes the average RMSE over all instances in the test set.\n",
    "\n",
    "    Parameters:\n",
    "    - model: Trained Scikit-learn classifier.\n",
    "    - X_test (pd.DataFrame): Test set features.\n",
    "    - attribution_scores (dict): Feature attributions (e.g., SHAP values).\n",
    "    - top_k (int): Number of top features to add. If None, adds all features.\n",
    "\n",
    "    Returns:\n",
    "    - avg_rmse (float): Average RMSE after additions over the test set.\n",
    "    \"\"\"\n",
    "    if top_k is None:\n",
    "        top_k = X_test.shape[1]\n",
    "\n",
    "    # Ensure attribution_scores is a dict\n",
    "    if not isinstance(attribution_scores, dict):\n",
    "        raise TypeError(\"Attribution scores must be a dictionary with feature names as keys and scores as values.\")\n",
    "\n",
    "    # Sort features by absolute attribution scores in descending order\n",
    "    sorted_features = sorted(X_test.columns, key=lambda x: -abs(attribution_scores.get(x, 0)))\n",
    "\n",
    "    # List to store RMSE values for each instance\n",
    "    rmse_values = []\n",
    "\n",
    "    # Iterate over each instance in the test set\n",
    "    for index, input_features in X_test.iterrows():\n",
    "        # Original prediction probability for class 1\n",
    "        y_predicted = model.predict_proba([input_features.values])[0][1]\n",
    "\n",
    "        # Initialize modified input with zeros\n",
    "        modified_input = pd.Series(0.0, index=input_features.index)\n",
    "\n",
    "        # List to store RMSE values at each step for this instance\n",
    "        instance_rmse_values = []\n",
    "\n",
    "        # Iteratively add features and compute RMSE\n",
    "        for i in range(top_k):\n",
    "            feature_to_add = sorted_features[i]\n",
    "            modified_input[feature_to_add] = input_features[feature_to_add].astype(float)\n",
    "            prediction = model.predict_proba([modified_input.values])[0][1]\n",
    "            rmse = np.sqrt(mean_squared_error([y_predicted], [prediction]))\n",
    "            instance_rmse_values.append(rmse)\n",
    "\n",
    "        # Average RMSE for this instance\n",
    "        instance_avg_rmse = np.mean(instance_rmse_values)\n",
    "        rmse_values.append(instance_avg_rmse)\n",
    "\n",
    "    # Compute overall average RMSE across all instances\n",
    "    overall_avg_rmse = np.mean(rmse_values)\n",
    "    return overall_avg_rmse\n",
    "\n"
   ]
  },
  {
   "cell_type": "code",
   "execution_count": 42,
   "metadata": {},
   "outputs": [],
   "source": [
    "# Convert causal_output_list to a dictionary\n",
    "causal_attribution_scores = dict(causal_output_list)\n",
    "\n",
    "# Convert shap_output_list to a dictionary\n",
    "shap_attribution_scores = dict(shap_output_list)\n"
   ]
  },
  {
   "cell_type": "code",
   "execution_count": 43,
   "metadata": {},
   "outputs": [],
   "source": [
    "# Compute RMSE over the test set using causal attributions\n",
    "causal_rmse_deletion = iterative_feature_deletion_with_rmse_over_testset(\n",
    "    model, model_trainer.X_test, causal_attribution_scores)\n",
    "\n",
    "causal_rmse_addition = iterative_feature_addition_with_rmse_over_testset(\n",
    "    model, model_trainer.X_test, causal_attribution_scores)\n",
    "\n",
    "# Compute RMSE over the test set using SHAP attributions\n",
    "shap_rmse_deletion = iterative_feature_deletion_with_rmse_over_testset(\n",
    "    model, model_trainer.X_test, shap_attribution_scores)\n",
    "\n",
    "shap_rmse_addition = iterative_feature_addition_with_rmse_over_testset(\n",
    "    model, model_trainer.X_test, shap_attribution_scores)\n",
    "\n"
   ]
  },
  {
   "cell_type": "code",
   "execution_count": 44,
   "metadata": {},
   "outputs": [
    {
     "name": "stdout",
     "output_type": "stream",
     "text": [
      "Using Global Score to sort Features\n",
      "SHAP RMSE after feature deletion over test set: 0.22010251647751647\n",
      "Causal RMSE after feature deletion over test set: 0.2401425661050661\n",
      "SHAP RMSE after feature addition over test set: 0.11379787906037905\n",
      "Causal RMSE after feature addition over test set: 0.0999792409167409\n"
     ]
    }
   ],
   "source": [
    "print(\"Using Global Score to sort Features\")\n",
    "print(\"SHAP RMSE after feature deletion over test set:\", shap_rmse_deletion)\n",
    "print(\"Causal RMSE after feature deletion over test set:\", causal_rmse_deletion)\n",
    "print(\"SHAP RMSE after feature addition over test set:\", shap_rmse_addition)\n",
    "print(\"Causal RMSE after feature addition over test set:\", causal_rmse_addition)"
   ]
  }
 ],
 "metadata": {
  "kernelspec": {
   "display_name": "venv",
   "language": "python",
   "name": "python3"
  },
  "language_info": {
   "codemirror_mode": {
    "name": "ipython",
    "version": 3
   },
   "file_extension": ".py",
   "mimetype": "text/x-python",
   "name": "python",
   "nbconvert_exporter": "python",
   "pygments_lexer": "ipython3",
   "version": "3.12.0"
  }
 },
 "nbformat": 4,
 "nbformat_minor": 2
}
