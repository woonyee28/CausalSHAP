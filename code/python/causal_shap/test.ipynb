{
 "cells": [
  {
   "cell_type": "markdown",
   "metadata": {},
   "source": [
    "Global Score for Causal SHAP IBS"
   ]
  },
  {
   "cell_type": "code",
   "execution_count": 2,
   "metadata": {},
   "outputs": [
    {
     "name": "stdout",
     "output_type": "stream",
     "text": [
      "[{'xylose': np.float64(0.13191601957276358), 'xanthosine': np.float64(-0.0012302754555192817), 'uracil': np.float64(-0.009612534286256316), 'ribulose/xylulose': np.float64(0.1398052719723667), 'valylglutamine': np.float64(-7.386755808860697e-05), 'tryptophylglycine': np.float64(0.0008794064947207714), 'succinate': np.float64(0.006962600356634677), 'valine betaine': np.float64(-0.0013035280526786234), 'ursodeoxycholate sulfate (1)': np.float64(-0.00032805778442085074), 'tricarballylate': np.float64(-0.00047464718617616045), 'succinimide': np.float64(-0.0004265953665802729), 'thymine': np.float64(0.007043544021562201), 'syringic acid': np.float64(0.0001624039492915659), 'serotonin': np.float64(-0.00980120401788335), 'ribitol': np.float64(-0.001182095205551476)}, {'xylose': np.float64(0.09599573609042962), 'xanthosine': np.float64(-0.0007661565610683617), 'uracil': np.float64(0.003386883640858132), 'ribulose/xylulose': np.float64(0.07726273085961621), 'valylglutamine': np.float64(2.6630548077268334e-05), 'tryptophylglycine': np.float64(3.6396529214958634e-05), 'succinate': np.float64(-0.0024603119330784784), 'valine betaine': np.float64(0.010326332287767534), 'ursodeoxycholate sulfate (1)': np.float64(-7.953578441373837e-05), 'tricarballylate': np.float64(7.610304947590571e-05), 'succinimide': np.float64(-0.0011311952941835568), 'thymine': np.float64(0.005629945409653363), 'syringic acid': np.float64(6.727533218835203e-05), 'serotonin': np.float64(0.033893138503544626), 'ribitol': np.float64(-0.004848329774006509)}, {'xylose': np.float64(0.0878878783799133), 'xanthosine': np.float64(0.0007038959763668696), 'uracil': np.float64(0.004072427332115775), 'ribulose/xylulose': np.float64(0.08620980711958495), 'valylglutamine': np.float64(0.0001837759701507454), 'tryptophylglycine': np.float64(0.0006479695325889426), 'succinate': np.float64(0.011104841229547222), 'valine betaine': np.float64(-0.028860513825857807), 'ursodeoxycholate sulfate (1)': np.float64(-0.0002657860064726277), 'tricarballylate': np.float64(-0.00014487872452081474), 'succinimide': np.float64(-0.0020787739408961686), 'thymine': np.float64(0.013615996253682159), 'syringic acid': np.float64(0.0004426017165925424), 'serotonin': np.float64(-0.015231237790184095), 'ribitol': np.float64(-0.006985108681283582)}, {'xylose': np.float64(-0.21816271107305063), 'xanthosine': np.float64(-0.016282835518717037), 'uracil': np.float64(-0.025155816681629455), 'ribulose/xylulose': np.float64(-0.0332721338330551), 'valylglutamine': np.float64(-0.006230500396415675), 'tryptophylglycine': np.float64(0.0035918398634388555), 'succinate': np.float64(-0.0046303746277533185), 'valine betaine': np.float64(-0.06693023812728516), 'ursodeoxycholate sulfate (1)': np.float64(-0.00012327491394630003), 'tricarballylate': np.float64(-0.0019799350116951743), 'succinimide': np.float64(0.0016667879985079012), 'thymine': np.float64(0.017467851562355512), 'syringic acid': np.float64(0.0002177477424749885), 'serotonin': np.float64(-0.1406054069111244), 'ribitol': np.float64(0.017532094269421827)}, {'xylose': np.float64(0.00413443152222629), 'xanthosine': np.float64(-2.0873813871178667e-05), 'uracil': np.float64(-0.000145428314572919), 'ribulose/xylulose': np.float64(0.0009348219436124997), 'valylglutamine': np.float64(-6.035403262565508e-06), 'tryptophylglycine': np.float64(6.787516006814618e-05), 'succinate': np.float64(-5.656045302908329e-05), 'valine betaine': np.float64(0.0008170335047063967), 'ursodeoxycholate sulfate (1)': np.float64(-3.2036171865598706e-06), 'tricarballylate': np.float64(7.551167657693803e-06), 'succinimide': np.float64(-0.0001012218211029039), 'thymine': np.float64(-0.0005280888103541303), 'syringic acid': np.float64(-9.217860527023614e-06), 'serotonin': np.float64(-0.0029000327727776777), 'ribitol': np.float64(-0.00048519773730195797)}, {'xylose': np.float64(0.13857725462827758), 'xanthosine': np.float64(0.0030625288706972813), 'uracil': np.float64(-0.003390949733132986), 'ribulose/xylulose': np.float64(0.038039187533519245), 'valylglutamine': np.float64(-0.00040423119134258984), 'tryptophylglycine': np.float64(0.0010488301962650788), 'succinate': np.float64(-0.0031250257799003956), 'valine betaine': np.float64(0.013231530425963471), 'ursodeoxycholate sulfate (1)': np.float64(-0.0003563360370516592), 'tricarballylate': np.float64(-0.0002967215039983002), 'succinimide': np.float64(0.0033988181858044457), 'thymine': np.float64(-0.03735392831988043), 'syringic acid': np.float64(0.00021370831182825173), 'serotonin': np.float64(0.0398342151538423), 'ribitol': np.float64(0.0035539074951663144)}, {'xylose': np.float64(0.02816819693766981), 'xanthosine': np.float64(0.0011535341558170792), 'uracil': np.float64(0.007655780488596053), 'ribulose/xylulose': np.float64(-0.06160230659192349), 'valylglutamine': np.float64(0.0002989327506475757), 'tryptophylglycine': np.float64(0.00017609041957539822), 'succinate': np.float64(0.006857521631483088), 'valine betaine': np.float64(-0.012464915458672407), 'ursodeoxycholate sulfate (1)': np.float64(-3.008832455176013e-05), 'tricarballylate': np.float64(9.577952524532106e-06), 'succinimide': np.float64(-0.0014606574128193618), 'thymine': np.float64(0.009919845511389518), 'syringic acid': np.float64(-0.0003179681130120924), 'serotonin': np.float64(-0.003048073827722424), 'ribitol': np.float64(-0.00135878492388383)}, {'xylose': np.float64(-0.13166577590019723), 'xanthosine': np.float64(-0.002295495691284969), 'uracil': np.float64(0.002924611841262456), 'ribulose/xylulose': np.float64(-0.026544713481032853), 'valylglutamine': np.float64(-7.628727092470029e-05), 'tryptophylglycine': np.float64(-0.0010998249854116237), 'succinate': np.float64(0.02381410972632999), 'valine betaine': np.float64(-0.03364424415939545), 'ursodeoxycholate sulfate (1)': np.float64(-0.00039813592271816455), 'tricarballylate': np.float64(-0.0005255029061828941), 'succinimide': np.float64(0.002064798500781618), 'thymine': np.float64(0.014830427063048223), 'syringic acid': np.float64(9.036092879558036e-06), 'serotonin': np.float64(0.016736484861617072), 'ribitol': np.float64(0.008453543302692195)}, {'xylose': np.float64(0.17367987157967235), 'xanthosine': np.float64(0.001545452809965907), 'uracil': np.float64(0.001203718833213547), 'ribulose/xylulose': np.float64(0.1693900290558109), 'valylglutamine': np.float64(0.0014134314770206987), 'tryptophylglycine': np.float64(0.0005958545348759426), 'succinate': np.float64(0.031687241755041715), 'valine betaine': np.float64(-0.06783105802098761), 'ursodeoxycholate sulfate (1)': np.float64(0.0004959928162936466), 'tricarballylate': np.float64(0.00035655653096497544), 'succinimide': np.float64(0.008689786156165146), 'thymine': np.float64(-0.0007881670776159761), 'syringic acid': np.float64(-9.728338802369532e-05), 'serotonin': np.float64(-0.07764024138582333), 'ribitol': np.float64(-0.0024951277277737312)}, {'xylose': np.float64(0.10968128843163479), 'xanthosine': np.float64(-0.0024488711344418314), 'uracil': np.float64(0.012201903905544136), 'ribulose/xylulose': np.float64(0.08758054842098024), 'valylglutamine': np.float64(0.00016907316197268375), 'tryptophylglycine': np.float64(1.272671754300203e-05), 'succinate': np.float64(-0.0020471466056071314), 'valine betaine': np.float64(0.008909283161775288), 'ursodeoxycholate sulfate (1)': np.float64(0.00028666697526744534), 'tricarballylate': np.float64(0.0002237251334784247), 'succinimide': np.float64(0.003117350807006916), 'thymine': np.float64(0.00543565441945717), 'syringic acid': np.float64(0.0004306286976932861), 'serotonin': np.float64(0.026907338497846794), 'ribitol': np.float64(0.0029491840619463618)}, {'xylose': np.float64(0.05762013802251548), 'xanthosine': np.float64(0.0004131259659614008), 'uracil': np.float64(0.009171180029664045), 'ribulose/xylulose': np.float64(0.0639437651281201), 'valylglutamine': np.float64(-0.00013154403922518914), 'tryptophylglycine': np.float64(0.00076172599310441), 'succinate': np.float64(-0.006038919519240556), 'valine betaine': np.float64(0.0028363573812012948), 'ursodeoxycholate sulfate (1)': np.float64(-0.00021242135098090148), 'tricarballylate': np.float64(-0.00019244033874045064), 'succinimide': np.float64(0.0018313756163820137), 'thymine': np.float64(0.00786257318031733), 'syringic acid': np.float64(3.424244882641049e-05), 'serotonin': np.float64(-0.023720899955321888), 'ribitol': np.float64(0.0010505405339585633)}, {'xylose': np.float64(0.061756357261028946), 'xanthosine': np.float64(-0.001736017913517833), 'uracil': np.float64(0.018026668058565752), 'ribulose/xylulose': np.float64(0.08065530655017676), 'valylglutamine': np.float64(-0.00045677279321152574), 'tryptophylglycine': np.float64(-0.0003089878416435648), 'succinate': np.float64(0.015481028730353726), 'valine betaine': np.float64(0.020961505130674993), 'ursodeoxycholate sulfate (1)': np.float64(-0.00028072703867443815), 'tricarballylate': np.float64(4.21860819881503e-05), 'succinimide': np.float64(0.0027160017678327913), 'thymine': np.float64(0.007356246985903198), 'syringic acid': np.float64(-0.0005466612353870272), 'serotonin': np.float64(-0.05317358456287517), 'ribitol': np.float64(0.0024925242922913394)}, {'xylose': np.float64(0.1298577229750481), 'xanthosine': np.float64(0.00036583781196457), 'uracil': np.float64(-0.0009340680262195533), 'ribulose/xylulose': np.float64(0.11076460625879021), 'valylglutamine': np.float64(-0.0003490824709105551), 'tryptophylglycine': np.float64(0.0008440271941571552), 'succinate': np.float64(0.020138711016323967), 'valine betaine': np.float64(0.011374628736584702), 'ursodeoxycholate sulfate (1)': np.float64(2.204051105787485e-05), 'tricarballylate': np.float64(0.0006104462558193441), 'succinimide': np.float64(0.003759979612749349), 'thymine': np.float64(0.0002485177350716801), 'syringic acid': np.float64(0.00014899338049919087), 'serotonin': np.float64(0.033611624970804097), 'ribitol': np.float64(-0.008622296881618476)}, {'xylose': np.float64(0.08664342593939817), 'xanthosine': np.float64(-0.0008313777643162777), 'uracil': np.float64(0.0032506426769385306), 'ribulose/xylulose': np.float64(0.10778063392210988), 'valylglutamine': np.float64(7.706819663505656e-05), 'tryptophylglycine': np.float64(0.0015549861414270068), 'succinate': np.float64(0.014326743046783356), 'valine betaine': np.float64(0.018669187863503175), 'ursodeoxycholate sulfate (1)': np.float64(-0.00014478371830290435), 'tricarballylate': np.float64(4.8335709508878655e-05), 'succinimide': np.float64(-0.0017632115583618058), 'thymine': np.float64(-0.008734350871443874), 'syringic acid': np.float64(-0.0002087151815640663), 'serotonin': np.float64(0.04806714346294748), 'ribitol': np.float64(0.0040644414460320666)}, {'xylose': np.float64(-0.035454441760900235), 'xanthosine': np.float64(-0.003362599090227637), 'uracil': np.float64(-0.0040773798926163314), 'ribulose/xylulose': np.float64(-0.06777620060743049), 'valylglutamine': np.float64(-9.027154650314271e-05), 'tryptophylglycine': np.float64(0.0011293841441885621), 'succinate': np.float64(0.008298464385735775), 'valine betaine': np.float64(0.009060448266474022), 'ursodeoxycholate sulfate (1)': np.float64(-2.7160476617783598e-05), 'tricarballylate': np.float64(6.186914532698887e-05), 'succinimide': np.float64(-0.001518334377549744), 'thymine': np.float64(0.0060347622550429554), 'syringic acid': np.float64(1.3454648787212536e-05), 'serotonin': np.float64(-0.009885805835616676), 'ribitol': np.float64(0.0011923540788824282)}, {'xylose': np.float64(0.13539784101635782), 'xanthosine': np.float64(-0.001170061740058303), 'uracil': np.float64(-0.008047910788482009), 'ribulose/xylulose': np.float64(-0.0152600761617112), 'valylglutamine': np.float64(-0.000824089978718451), 'tryptophylglycine': np.float64(0.0016827480883474413), 'succinate': np.float64(0.016665085549213872), 'valine betaine': np.float64(-0.03507944376127136), 'ursodeoxycholate sulfate (1)': np.float64(-0.00028043413406286913), 'tricarballylate': np.float64(-0.00023280954939034133), 'succinimide': np.float64(0.0005794437081944912), 'thymine': np.float64(0.021156402451784042), 'syringic acid': np.float64(0.0012393944154760563), 'serotonin': np.float64(0.05074113048035885), 'ribitol': np.float64(0.00864674998136412)}, {'xylose': np.float64(0.13836293494952842), 'xanthosine': np.float64(0.0004352864179086599), 'uracil': np.float64(-0.006956677473745396), 'ribulose/xylulose': np.float64(0.08707146401260675), 'valylglutamine': np.float64(0.0002546709366199501), 'tryptophylglycine': np.float64(0.001902929392617154), 'succinate': np.float64(-0.006855322393476163), 'valine betaine': np.float64(0.013509168200415912), 'ursodeoxycholate sulfate (1)': np.float64(-9.178561119477173e-05), 'tricarballylate': np.float64(0.0004942243812635543), 'succinimide': np.float64(0.00011658045906522022), 'thymine': np.float64(0.0036176056712033783), 'syringic acid': np.float64(0.0005669248967565274), 'serotonin': np.float64(0.056648774554958856), 'ribitol': np.float64(-0.002717232171549052)}, {'xylose': np.float64(-0.061377690474485685), 'xanthosine': np.float64(0.011258139119681869), 'uracil': np.float64(-0.050357691336763245), 'ribulose/xylulose': np.float64(0.16162803603195625), 'valylglutamine': np.float64(-0.0010715442156720664), 'tryptophylglycine': np.float64(-0.0007031399436462597), 'succinate': np.float64(-0.0030844660047789014), 'valine betaine': np.float64(-0.1085201854172329), 'ursodeoxycholate sulfate (1)': np.float64(0.00013175307230727822), 'tricarballylate': np.float64(-0.0006153837074744757), 'succinimide': np.float64(-0.0037612428704058873), 'thymine': np.float64(-0.011971321185137824), 'syringic acid': np.float64(-0.00012989350236930692), 'serotonin': np.float64(-0.06283372344240275), 'ribitol': np.float64(0.00034184004834276533)}, {'xylose': np.float64(-0.364213974090894), 'xanthosine': np.float64(-0.003404818876663154), 'uracil': np.float64(-0.0032291410120031516), 'ribulose/xylulose': np.float64(-0.10497146549011381), 'valylglutamine': np.float64(0.0007009208041145804), 'tryptophylglycine': np.float64(0.0010157733116869794), 'succinate': np.float64(-0.0022398422229988556), 'valine betaine': np.float64(0.008619768791905376), 'ursodeoxycholate sulfate (1)': np.float64(-0.00051992647643506), 'tricarballylate': np.float64(-0.0005372897793021787), 'succinimide': np.float64(-0.0027072150476826727), 'thymine': np.float64(0.027685819220892412), 'syringic acid': np.float64(0.0006903828217196262), 'serotonin': np.float64(-0.08896924980159993), 'ribitol': np.float64(-0.007262576882028359)}, {'xylose': np.float64(0.11765659265555266), 'xanthosine': np.float64(-0.0033836401771032525), 'uracil': np.float64(0.010397453851635317), 'ribulose/xylulose': np.float64(0.08231394738310593), 'valylglutamine': np.float64(-2.588149243612342e-06), 'tryptophylglycine': np.float64(0.0007222547755727368), 'succinate': np.float64(0.013337512731711479), 'valine betaine': np.float64(0.0007772972952069261), 'ursodeoxycholate sulfate (1)': np.float64(0.00029132224193601067), 'tricarballylate': np.float64(0.00026451142708978426), 'succinimide': np.float64(0.0004335670574847203), 'thymine': np.float64(0.008995618522170894), 'syringic acid': np.float64(-0.00017900171082380322), 'serotonin': np.float64(0.042559260309287444), 'ribitol': np.float64(0.0028148541488117133)}, {'xylose': np.float64(0.02309734557497607), 'xanthosine': np.float64(-0.0002122293384575752), 'uracil': np.float64(0.0004160288929561511), 'ribulose/xylulose': np.float64(0.017801387481898266), 'valylglutamine': np.float64(3.661775523153115e-05), 'tryptophylglycine': np.float64(0.00028183244909784114), 'succinate': np.float64(-0.000974033938548327), 'valine betaine': np.float64(-0.005236974435984737), 'ursodeoxycholate sulfate (1)': np.float64(1.6119817572343328e-05), 'tricarballylate': np.float64(-2.5857734352164872e-05), 'succinimide': np.float64(0.00022759645791369193), 'thymine': np.float64(0.0011560862090500249), 'syringic acid': np.float64(0.00011888350928209717), 'serotonin': np.float64(-0.00893429182147466), 'ribitol': np.float64(-0.0004118506590679066)}, {'xylose': np.float64(-0.195512324898151), 'xanthosine': np.float64(-0.0012214474839201835), 'uracil': np.float64(-0.01794763456234333), 'ribulose/xylulose': np.float64(-0.1291387101740822), 'valylglutamine': np.float64(-0.0004643695583522607), 'tryptophylglycine': np.float64(0.0007853144916291147), 'succinate': np.float64(-0.00829700930566077), 'valine betaine': np.float64(-0.07147623846966909), 'ursodeoxycholate sulfate (1)': np.float64(-7.405686803801916e-05), 'tricarballylate': np.float64(2.691321125296225e-05), 'succinimide': np.float64(-0.011465382594173115), 'thymine': np.float64(-0.0338529073032959), 'syringic acid': np.float64(-0.0006101073455399403), 'serotonin': np.float64(-0.012267704033095376), 'ribitol': np.float64(-0.0064581222169154415)}, {'xylose': np.float64(0.11653257604955983), 'xanthosine': np.float64(0.0030825961140133434), 'uracil': np.float64(-0.023221834073968037), 'ribulose/xylulose': np.float64(-0.2847783381656009), 'valylglutamine': np.float64(-0.0013536629711672844), 'tryptophylglycine': np.float64(0.0022268104376478456), 'succinate': np.float64(-0.005049470862003879), 'valine betaine': np.float64(-0.013494222188185481), 'ursodeoxycholate sulfate (1)': np.float64(-7.136826874332128e-07), 'tricarballylate': np.float64(-0.0012965963218006201), 'succinimide': np.float64(0.013917027719140324), 'thymine': np.float64(0.008892518458698272), 'syringic acid': np.float64(0.0005778632898443203), 'serotonin': np.float64(0.06366343650516736), 'ribitol': np.float64(-0.02265949109422595)}, {'xylose': np.float64(0.08679348094446847), 'xanthosine': np.float64(0.0015148635071106206), 'uracil': np.float64(0.006243927028991017), 'ribulose/xylulose': np.float64(0.06503440772573425), 'valylglutamine': np.float64(0.0002852001886274583), 'tryptophylglycine': np.float64(-0.0004579288689424007), 'succinate': np.float64(0.0034158821229174304), 'valine betaine': np.float64(-0.004378980377346997), 'ursodeoxycholate sulfate (1)': np.float64(0.00028143229625907074), 'tricarballylate': np.float64(-0.00018370647516607452), 'succinimide': np.float64(-0.00014080388631860252), 'thymine': np.float64(0.0014698556164107815), 'syringic acid': np.float64(0.000296806503809196), 'serotonin': np.float64(0.03220674508382275), 'ribitol': np.float64(0.0008982892368363389)}, {'xylose': np.float64(0.10029848305412432), 'xanthosine': np.float64(-0.029614825850811734), 'uracil': np.float64(0.015205372561451073), 'ribulose/xylulose': np.float64(0.08348386623558812), 'valylglutamine': np.float64(-0.0007243101977993597), 'tryptophylglycine': np.float64(-0.0010130525839920428), 'succinate': np.float64(-0.02332343682621433), 'valine betaine': np.float64(0.0015928598711934035), 'ursodeoxycholate sulfate (1)': np.float64(-7.697444491973984e-05), 'tricarballylate': np.float64(-0.0011456816899986647), 'succinimide': np.float64(0.0012588778547065736), 'thymine': np.float64(0.027230032782744933), 'syringic acid': np.float64(0.0006692075163640116), 'serotonin': np.float64(0.024950194215102545), 'ribitol': np.float64(0.002121130117472543)}, {'xylose': np.float64(-0.055239600960480584), 'xanthosine': np.float64(-0.005242526153112484), 'uracil': np.float64(-0.0058171102393358735), 'ribulose/xylulose': np.float64(-0.09075431488973369), 'valylglutamine': np.float64(-2.0678757586565025e-05), 'tryptophylglycine': np.float64(-0.00018954043674013478), 'succinate': np.float64(-0.006214906536364096), 'valine betaine': np.float64(-0.02542660956130924), 'ursodeoxycholate sulfate (1)': np.float64(0.0004824856170621073), 'tricarballylate': np.float64(0.00015536038714213262), 'succinimide': np.float64(0.004627210094478617), 'thymine': np.float64(0.0005946404742203648), 'syringic acid': np.float64(-0.00020212737251585106), 'serotonin': np.float64(0.05907760278688095), 'ribitol': np.float64(0.0029398210555322134)}, {'xylose': np.float64(-2.1831370203471607), 'xanthosine': np.float64(0.02971449597003245), 'uracil': np.float64(0.0012795423897960117), 'ribulose/xylulose': np.float64(3.3220008702546395), 'valylglutamine': np.float64(0.01330110129872305), 'tryptophylglycine': np.float64(0.014280589857471281), 'succinate': np.float64(0.23819541466115615), 'valine betaine': np.float64(0.030628364929026732), 'ursodeoxycholate sulfate (1)': np.float64(-0.008506366733929032), 'tricarballylate': np.float64(-0.0233487044022892), 'succinimide': np.float64(-0.11225844820839206), 'thymine': np.float64(0.37720274052355107), 'syringic acid': np.float64(0.007657385395379283), 'serotonin': np.float64(-2.3313679615837684), 'ribitol': np.float64(0.48313123269493297)}, {'xylose': np.float64(0.036819298436154786), 'xanthosine': np.float64(-0.0005451326999788414), 'uracil': np.float64(-0.018871401082629025), 'ribulose/xylulose': np.float64(-0.07888664478291103), 'valylglutamine': np.float64(-0.0005050243389565485), 'tryptophylglycine': np.float64(2.4554017515833712e-05), 'succinate': np.float64(-0.003846358395601308), 'valine betaine': np.float64(0.010707930459360379), 'ursodeoxycholate sulfate (1)': np.float64(-0.00025276392871192765), 'tricarballylate': np.float64(2.5380875717322592e-05), 'succinimide': np.float64(-0.0025788039552066297), 'thymine': np.float64(-0.015015331648433532), 'syringic acid': np.float64(0.0002650590791886869), 'serotonin': np.float64(0.028782118437856122), 'ribitol': np.float64(-0.0045147495018007895)}, {'xylose': np.float64(-0.26524787612188216), 'xanthosine': np.float64(-0.003626707778586061), 'uracil': np.float64(-0.007968403094161938), 'ribulose/xylulose': np.float64(-0.03771614760683831), 'valylglutamine': np.float64(0.0002732172584372815), 'tryptophylglycine': np.float64(0.0015031150970644756), 'succinate': np.float64(-0.03373574840327837), 'valine betaine': np.float64(-0.032239600633071915), 'ursodeoxycholate sulfate (1)': np.float64(0.00037204887210785266), 'tricarballylate': np.float64(0.0002784264146605254), 'succinimide': np.float64(0.002429370013705315), 'thymine': np.float64(-0.024062455785532816), 'syringic acid': np.float64(-0.00024366474232511163), 'serotonin': np.float64(-0.09024024728526397), 'ribitol': np.float64(-0.00028879585507199834)}, {'xylose': np.float64(-0.2089897905710564), 'xanthosine': np.float64(-0.008447611920876954), 'uracil': np.float64(0.005988215724865359), 'ribulose/xylulose': np.float64(-0.014404354794077761), 'valylglutamine': np.float64(0.0007541352237494865), 'tryptophylglycine': np.float64(0.0012083837892369184), 'succinate': np.float64(-0.011654063364291607), 'valine betaine': np.float64(0.012684120475843812), 'ursodeoxycholate sulfate (1)': np.float64(-9.334365393819338e-05), 'tricarballylate': np.float64(6.275167084147163e-05), 'succinimide': np.float64(-0.0057915277786322284), 'thymine': np.float64(-0.008367135854700234), 'syringic acid': np.float64(-0.000477081903288174), 'serotonin': np.float64(-0.1065736684205308), 'ribitol': np.float64(-0.00949633110701459)}, {'xylose': np.float64(0.1320329994129415), 'xanthosine': np.float64(-0.0010297511661242855), 'uracil': np.float64(0.005314626262093264), 'ribulose/xylulose': np.float64(0.1035213409513998), 'valylglutamine': np.float64(0.0005136721013038785), 'tryptophylglycine': np.float64(-0.0006043304558818463), 'succinate': np.float64(-0.027054610378082954), 'valine betaine': np.float64(0.01915073428765031), 'ursodeoxycholate sulfate (1)': np.float64(-0.0002529610435299242), 'tricarballylate': np.float64(-3.2677512533757134e-05), 'succinimide': np.float64(-0.002966181391609713), 'thymine': np.float64(0.0033728286825390565), 'syringic acid': np.float64(-0.00015153660462964406), 'serotonin': np.float64(0.0422459469490088), 'ribitol': np.float64(-0.010170250841262676)}, {'xylose': np.float64(0.06397319143584647), 'xanthosine': np.float64(0.0008364143595674069), 'uracil': np.float64(0.0029183505320638493), 'ribulose/xylulose': np.float64(0.06637631809613716), 'valylglutamine': np.float64(-0.0001334489244157228), 'tryptophylglycine': np.float64(0.00023098508203287402), 'succinate': np.float64(-0.0003686157929646184), 'valine betaine': np.float64(0.010735169776902038), 'ursodeoxycholate sulfate (1)': np.float64(-7.647327686090794e-05), 'tricarballylate': np.float64(-0.00011908368328706297), 'succinimide': np.float64(0.0022980569793139955), 'thymine': np.float64(0.00015340072326912107), 'syringic acid': np.float64(-5.1814171850046545e-05), 'serotonin': np.float64(-0.01344599997729314), 'ribitol': np.float64(0.0010087444151665116)}, {'xylose': np.float64(0.057208784057974485), 'xanthosine': np.float64(-0.004474371331932563), 'uracil': np.float64(-0.009870238205128263), 'ribulose/xylulose': np.float64(0.13934033571538879), 'valylglutamine': np.float64(0.00033743176534574063), 'tryptophylglycine': np.float64(0.002103159813303997), 'succinate': np.float64(-0.001530437779304063), 'valine betaine': np.float64(0.005507055901911432), 'ursodeoxycholate sulfate (1)': np.float64(-7.99059943662235e-05), 'tricarballylate': np.float64(7.57480593381799e-05), 'succinimide': np.float64(0.005256915552800036), 'thymine': np.float64(-0.011415020895643889), 'syringic acid': np.float64(-0.0019412983469096336), 'serotonin': np.float64(0.0003229055811885141), 'ribitol': np.float64(0.006465597713627654)}, {'xylose': np.float64(0.23671305231433726), 'xanthosine': np.float64(0.0050043551386126026), 'uracil': np.float64(-0.02995328718369451), 'ribulose/xylulose': np.float64(-0.30769303562617095), 'valylglutamine': np.float64(-0.0019617064963215313), 'tryptophylglycine': np.float64(-0.0032102043736559863), 'succinate': np.float64(0.03970634460186784), 'valine betaine': np.float64(-0.09997447921729141), 'ursodeoxycholate sulfate (1)': np.float64(0.00010056377004195222), 'tricarballylate': np.float64(0.0014811207821285076), 'succinimide': np.float64(0.003522056029550844), 'thymine': np.float64(-0.026798753129434878), 'syringic acid': np.float64(0.0018604652593897167), 'serotonin': np.float64(0.04330490274011718), 'ribitol': np.float64(0.00214886506671554)}, {'xylose': np.float64(-0.0007701242850614081), 'xanthosine': np.float64(-5.010204562766189e-05), 'uracil': np.float64(-6.117351197504896e-05), 'ribulose/xylulose': np.float64(-0.0008639663355503293), 'valylglutamine': np.float64(1.049504945822786e-06), 'tryptophylglycine': np.float64(-3.3196775868683485e-06), 'succinate': np.float64(-0.0002616101189074365), 'valine betaine': np.float64(0.0005829727666431869), 'ursodeoxycholate sulfate (1)': np.float64(2.335812538105541e-06), 'tricarballylate': np.float64(1.661386306309668e-05), 'succinimide': np.float64(9.032265499075744e-06), 'thymine': np.float64(1.698598853320075e-05), 'syringic acid': np.float64(-4.046976820575573e-06), 'serotonin': np.float64(0.00427235585726873), 'ribitol': np.float64(7.216571563916507e-05)}, {'xylose': np.float64(-0.1918047871980165), 'xanthosine': np.float64(0.0020419901320262086), 'uracil': np.float64(-0.005366309657749562), 'ribulose/xylulose': np.float64(-0.07306551150795697), 'valylglutamine': np.float64(-0.0006784718851329811), 'tryptophylglycine': np.float64(6.377853490781207e-05), 'succinate': np.float64(0.0019822261912988866), 'valine betaine': np.float64(0.04684016151520992), 'ursodeoxycholate sulfate (1)': np.float64(0.00014254591439992947), 'tricarballylate': np.float64(-0.00023870337467320096), 'succinimide': np.float64(-0.011095694083107316), 'thymine': np.float64(-0.012118457212073682), 'syringic acid': np.float64(-0.0008396904179023936), 'serotonin': np.float64(-0.14628521753242504), 'ribitol': np.float64(4.178781427473499e-05)}, {'xylose': np.float64(-0.008326047011326892), 'xanthosine': np.float64(-0.002165086200574473), 'uracil': np.float64(0.0017977082405200553), 'ribulose/xylulose': np.float64(-0.015255241912537364), 'valylglutamine': np.float64(0.00015020794514737017), 'tryptophylglycine': np.float64(0.00047103379329604803), 'succinate': np.float64(-0.0040374311532563115), 'valine betaine': np.float64(0.0030778221657433874), 'ursodeoxycholate sulfate (1)': np.float64(-4.7041135131947284e-05), 'tricarballylate': np.float64(-0.00010870511025275102), 'succinimide': np.float64(-0.0010239406846172597), 'thymine': np.float64(-0.0002076333534557852), 'syringic acid': np.float64(-3.2514413699887804e-05), 'serotonin': np.float64(0.00392611172201447), 'ribitol': np.float64(0.0011899065057132856)}, {'xylose': np.float64(0.0378976869603197), 'xanthosine': np.float64(0.00038673305343757934), 'uracil': np.float64(0.00012953368643806623), 'ribulose/xylulose': np.float64(0.03791362800437719), 'valylglutamine': np.float64(7.002033528589331e-05), 'tryptophylglycine': np.float64(0.0008988701384838273), 'succinate': np.float64(0.006400126681103414), 'valine betaine': np.float64(0.008275237301503953), 'ursodeoxycholate sulfate (1)': np.float64(-0.00010327063149722583), 'tricarballylate': np.float64(-6.573092998536508e-05), 'succinimide': np.float64(-0.001118905831410954), 'thymine': np.float64(0.006389674401763589), 'syringic acid': np.float64(-0.00025194184310165906), 'serotonin': np.float64(-0.019248923703829312), 'ribitol': np.float64(-0.002191185627904257)}, {'xylose': np.float64(-0.126050005286263), 'xanthosine': np.float64(-0.006777750333230237), 'uracil': np.float64(0.014936129124013816), 'ribulose/xylulose': np.float64(-0.1248145113626379), 'valylglutamine': np.float64(-0.0003971646181681813), 'tryptophylglycine': np.float64(0.001810790867263828), 'succinate': np.float64(0.0012924426473544192), 'valine betaine': np.float64(-0.008405929228111828), 'ursodeoxycholate sulfate (1)': np.float64(0.00041858624960478636), 'tricarballylate': np.float64(-0.0007964016765407893), 'succinimide': np.float64(-0.007337269268502848), 'thymine': np.float64(0.01087959952449805), 'syringic acid': np.float64(-0.0005775672635360133), 'serotonin': np.float64(-0.1392646775270716), 'ribitol': np.float64(-0.0018747270686950532)}, {'xylose': np.float64(0.0979671250625883), 'xanthosine': np.float64(-0.0003347109873684227), 'uracil': np.float64(-0.03609443282946511), 'ribulose/xylulose': np.float64(0.09588802516600956), 'valylglutamine': np.float64(-0.0002760199379383138), 'tryptophylglycine': np.float64(0.004359662798812651), 'succinate': np.float64(-0.005235554519771997), 'valine betaine': np.float64(0.024409037017149197), 'ursodeoxycholate sulfate (1)': np.float64(0.00015333820634235733), 'tricarballylate': np.float64(-0.00020187112895344678), 'succinimide': np.float64(-0.003658696228342773), 'thymine': np.float64(-0.019971431985407146), 'syringic acid': np.float64(8.722323470127728e-06), 'serotonin': np.float64(-0.024721884724672596), 'ribitol': np.float64(-0.008643342096053682)}, {'xylose': np.float64(0.1022629992665976), 'xanthosine': np.float64(0.0015912661492096481), 'uracil': np.float64(0.0021034627149332055), 'ribulose/xylulose': np.float64(0.08058603873412072), 'valylglutamine': np.float64(0.0003019333721915902), 'tryptophylglycine': np.float64(0.00042606408374992765), 'succinate': np.float64(-0.0012276046291726092), 'valine betaine': np.float64(-0.03213789779304859), 'ursodeoxycholate sulfate (1)': np.float64(0.00016704825442424528), 'tricarballylate': np.float64(-0.00027138052078895124), 'succinimide': np.float64(-0.0017478399105212835), 'thymine': np.float64(-0.006841958161210319), 'syringic acid': np.float64(0.000256634426413129), 'serotonin': np.float64(0.03279487390606901), 'ribitol': np.float64(0.002981909216014538)}, {'xylose': np.float64(0.031746596611495724), 'xanthosine': np.float64(0.0011855283272593706), 'uracil': np.float64(0.005426959961084994), 'ribulose/xylulose': np.float64(0.06805983313775081), 'valylglutamine': np.float64(0.0007692900246665327), 'tryptophylglycine': np.float64(0.0010886087080733283), 'succinate': np.float64(0.0019668889515242053), 'valine betaine': np.float64(-0.05715756603525969), 'ursodeoxycholate sulfate (1)': np.float64(-0.00013495164783703875), 'tricarballylate': np.float64(0.0005214760820700114), 'succinimide': np.float64(-0.005138295223215306), 'thymine': np.float64(0.012794454456244771), 'syringic acid': np.float64(-0.00031451749916722947), 'serotonin': np.float64(0.0478540754547544), 'ribitol': np.float64(0.002402801960697214)}, {'xylose': np.float64(0.09938062016881508), 'xanthosine': np.float64(-0.0036166710599813117), 'uracil': np.float64(0.007795758576545691), 'ribulose/xylulose': np.float64(0.09436557196673763), 'valylglutamine': np.float64(2.983058139606832e-05), 'tryptophylglycine': np.float64(0.0005786445906121475), 'succinate': np.float64(0.02256080490543133), 'valine betaine': np.float64(0.007934946550134393), 'ursodeoxycholate sulfate (1)': np.float64(0.00011694094281221354), 'tricarballylate': np.float64(1.2635470571747294e-05), 'succinimide': np.float64(-0.0006711029215755969), 'thymine': np.float64(0.015351575035907087), 'syringic acid': np.float64(5.614551888436177e-05), 'serotonin': np.float64(0.039197648206284526), 'ribitol': np.float64(0.004433211232417123)}, {'xylose': np.float64(0.078758708066497), 'xanthosine': np.float64(-0.002221186440807351), 'uracil': np.float64(0.014119725594828148), 'ribulose/xylulose': np.float64(-0.03600570613701112), 'valylglutamine': np.float64(-0.0002299412617228401), 'tryptophylglycine': np.float64(-0.0007992059135566144), 'succinate': np.float64(-0.0012711271027343177), 'valine betaine': np.float64(-0.0005258736397368702), 'ursodeoxycholate sulfate (1)': np.float64(0.0007963426260595345), 'tricarballylate': np.float64(0.0004359588365699672), 'succinimide': np.float64(-0.001659788818232376), 'thymine': np.float64(-0.01999884352009602), 'syringic acid': np.float64(0.0003121578280367089), 'serotonin': np.float64(0.0746307569398029), 'ribitol': np.float64(0.005281097303610152)}, {'xylose': np.float64(0.1386785000053975), 'xanthosine': np.float64(0.00016995336094371242), 'uracil': np.float64(0.0014579132827091932), 'ribulose/xylulose': np.float64(0.10299974544942289), 'valylglutamine': np.float64(-0.0008225151869794928), 'tryptophylglycine': np.float64(0.0016711638136316996), 'succinate': np.float64(0.02328358374732211), 'valine betaine': np.float64(0.01891108583038607), 'ursodeoxycholate sulfate (1)': np.float64(0.000469595713005009), 'tricarballylate': np.float64(-1.3151009385356057e-05), 'succinimide': np.float64(0.003232540780619782), 'thymine': np.float64(-0.0070153670639990255), 'syringic acid': np.float64(0.0003276949697960459), 'serotonin': np.float64(0.04754700368682378), 'ribitol': np.float64(0.0008764813829671771)}, {'xylose': np.float64(-0.14635483511212102), 'xanthosine': np.float64(-0.0015510461589906333), 'uracil': np.float64(0.006527201019140534), 'ribulose/xylulose': np.float64(-0.14114196041436222), 'valylglutamine': np.float64(0.00044659043669772433), 'tryptophylglycine': np.float64(0.001248248591007507), 'succinate': np.float64(-0.01098570807349706), 'valine betaine': np.float64(-0.0692182259939143), 'ursodeoxycholate sulfate (1)': np.float64(-7.849267923862164e-05), 'tricarballylate': np.float64(-0.0003011218606598907), 'succinimide': np.float64(0.004009913456720389), 'thymine': np.float64(-0.009760120022460482), 'syringic acid': np.float64(0.001019746710992544), 'serotonin': np.float64(-0.0818062087331468), 'ribitol': np.float64(0.005931466932712861)}, {'xylose': np.float64(-0.022107207257611304), 'xanthosine': np.float64(0.0008737672755398323), 'uracil': np.float64(0.00014802397244010728), 'ribulose/xylulose': np.float64(-0.046931629935092506), 'valylglutamine': np.float64(-0.0002457310458771652), 'tryptophylglycine': np.float64(0.0005440253176891907), 'succinate': np.float64(-0.004670440745699318), 'valine betaine': np.float64(0.006020324518319175), 'ursodeoxycholate sulfate (1)': np.float64(0.00012490783206536596), 'tricarballylate': np.float64(9.304867053541525e-05), 'succinimide': np.float64(0.00034895046182478485), 'thymine': np.float64(0.003925681936625331), 'syringic acid': np.float64(0.00014832666493108372), 'serotonin': np.float64(-0.00655924039915424), 'ribitol': np.float64(-0.0009385785038746021)}, {'xylose': np.float64(0.1244325680066949), 'xanthosine': np.float64(0.0010741229076633302), 'uracil': np.float64(0.01810894594632763), 'ribulose/xylulose': np.float64(0.07391726080670107), 'valylglutamine': np.float64(-0.0003490336626277998), 'tryptophylglycine': np.float64(0.0005629617108577141), 'succinate': np.float64(0.007379362144698983), 'valine betaine': np.float64(0.012359126227082165), 'ursodeoxycholate sulfate (1)': np.float64(-0.00017541103126081207), 'tricarballylate': np.float64(1.287696929411931e-05), 'succinimide': np.float64(0.0032748240032277032), 'thymine': np.float64(0.004095627646971415), 'syringic acid': np.float64(-1.7952169490416134e-05), 'serotonin': np.float64(0.02140874290193522), 'ribitol': np.float64(0.0028177177320975444)}, {'xylose': np.float64(-0.21567308470679725), 'xanthosine': np.float64(-0.01403627463384645), 'uracil': np.float64(-0.004550922431762464), 'ribulose/xylulose': np.float64(-0.1785685798112616), 'valylglutamine': np.float64(0.003770061110340826), 'tryptophylglycine': np.float64(-0.0030210463786185925), 'succinate': np.float64(-0.020792139939732033), 'valine betaine': np.float64(0.1235892728289011), 'ursodeoxycholate sulfate (1)': np.float64(-0.0007906943897116707), 'tricarballylate': np.float64(-1.3082100911401417e-05), 'succinimide': np.float64(0.0056631559920726346), 'thymine': np.float64(0.08774533666754114), 'syringic acid': np.float64(0.0001315186407819198), 'serotonin': np.float64(-0.07027399964061773), 'ribitol': np.float64(0.025006864843440182)}, {'xylose': np.float64(0.09528543883561774), 'xanthosine': np.float64(0.0009602450971732542), 'uracil': np.float64(0.008765503563618476), 'ribulose/xylulose': np.float64(0.034948075566270165), 'valylglutamine': np.float64(0.0003931693578918606), 'tryptophylglycine': np.float64(0.00100731381640043), 'succinate': np.float64(0.004699486926754827), 'valine betaine': np.float64(0.028026952376620957), 'ursodeoxycholate sulfate (1)': np.float64(7.751232604353802e-05), 'tricarballylate': np.float64(-0.00010564996107422416), 'succinimide': np.float64(-0.0025998882703873643), 'thymine': np.float64(0.020654753158235246), 'syringic acid': np.float64(0.0001264928670146519), 'serotonin': np.float64(-0.01834523929178619), 'ribitol': np.float64(0.004256866146071375)}, {'xylose': np.float64(0.11792163538352626), 'xanthosine': np.float64(0.0002587077301502666), 'uracil': np.float64(-0.0057947550341529265), 'ribulose/xylulose': np.float64(0.02198081702713803), 'valylglutamine': np.float64(-0.00022828395180703114), 'tryptophylglycine': np.float64(0.00020904631968658426), 'succinate': np.float64(-0.0002462615954649219), 'valine betaine': np.float64(-0.0011388452134583353), 'ursodeoxycholate sulfate (1)': np.float64(-0.00039809284825972067), 'tricarballylate': np.float64(-0.00022830250408098238), 'succinimide': np.float64(-0.0007546422674997137), 'thymine': np.float64(0.017413551514843646), 'syringic acid': np.float64(-0.0002005399510595429), 'serotonin': np.float64(0.041612814298929636), 'ribitol': np.float64(-8.281171671129185e-05)}, {'xylose': np.float64(-0.21860183634588973), 'xanthosine': np.float64(-0.006686647759482857), 'uracil': np.float64(-0.010260512047665316), 'ribulose/xylulose': np.float64(-0.032221428439932004), 'valylglutamine': np.float64(-0.00023380609997652324), 'tryptophylglycine': np.float64(0.0028945967921068442), 'succinate': np.float64(-0.010320633738386433), 'valine betaine': np.float64(-0.09393881261067427), 'ursodeoxycholate sulfate (1)': np.float64(-0.0002259906661629592), 'tricarballylate': np.float64(0.001103472185078489), 'succinimide': np.float64(-0.007094579867059862), 'thymine': np.float64(-0.019789973860803375), 'syringic acid': np.float64(2.9249496686488295e-05), 'serotonin': np.float64(-0.10970107801494128), 'ribitol': np.float64(0.020617844660398905)}, {'xylose': np.float64(0.12485218688516457), 'xanthosine': np.float64(0.0022082552509764234), 'uracil': np.float64(-0.0027251270160573576), 'ribulose/xylulose': np.float64(0.11843210289980781), 'valylglutamine': np.float64(7.708416714341793e-05), 'tryptophylglycine': np.float64(-2.578740721532905e-05), 'succinate': np.float64(-0.0009408382345868659), 'valine betaine': np.float64(0.01374019332148347), 'ursodeoxycholate sulfate (1)': np.float64(-0.0003067207397841611), 'tricarballylate': np.float64(0.0005644828464303944), 'succinimide': np.float64(-0.00018506279516700505), 'thymine': np.float64(-0.012665198889039275), 'syringic acid': np.float64(4.0747103999179814e-05), 'serotonin': np.float64(0.038246214755138064), 'ribitol': np.float64(0.004038954152152119)}, {'xylose': np.float64(-0.4248627021052833), 'xanthosine': np.float64(-0.025841008252325468), 'uracil': np.float64(-0.05631176497671056), 'ribulose/xylulose': np.float64(0.3787083679420535), 'valylglutamine': np.float64(0.0032934718489593838), 'tryptophylglycine': np.float64(-0.002124562928339116), 'succinate': np.float64(-0.05273537000847642), 'valine betaine': np.float64(0.04907952368270819), 'ursodeoxycholate sulfate (1)': np.float64(-0.001316274190188989), 'tricarballylate': np.float64(0.00012702051320335155), 'succinimide': np.float64(0.008399128856981583), 'thymine': np.float64(-0.040545343768822024), 'syringic acid': np.float64(0.00035693771918330757), 'serotonin': np.float64(-0.13771699868335668), 'ribitol': np.float64(-0.014633938034666597)}, {'xylose': np.float64(0.006114220765245076), 'xanthosine': np.float64(-0.00013137398470421967), 'uracil': np.float64(0.0002764029384536055), 'ribulose/xylulose': np.float64(0.005472719110297428), 'valylglutamine': np.float64(9.02450612307355e-07), 'tryptophylglycine': np.float64(-5.3474312804105965e-06), 'succinate': np.float64(0.0008864645582283639), 'valine betaine': np.float64(0.0017635401782742832), 'ursodeoxycholate sulfate (1)': np.float64(-5.744777356198651e-06), 'tricarballylate': np.float64(-1.778571340802492e-05), 'succinimide': np.float64(-8.983587261053503e-05), 'thymine': np.float64(0.0005284736553989044), 'syringic acid': np.float64(-1.2953723570563235e-05), 'serotonin': np.float64(-0.0024686915905616775), 'ribitol': np.float64(-0.00029000855360363615)}, {'xylose': np.float64(-0.16188773208109813), 'xanthosine': np.float64(-0.010351326044704671), 'uracil': np.float64(0.007525773920944958), 'ribulose/xylulose': np.float64(-0.16922643779919053), 'valylglutamine': np.float64(0.0013354951300728608), 'tryptophylglycine': np.float64(9.964228111743091e-05), 'succinate': np.float64(-0.038166255180051886), 'valine betaine': np.float64(0.008778741241768633), 'ursodeoxycholate sulfate (1)': np.float64(-0.00025877805483694914), 'tricarballylate': np.float64(-0.00046907103723636703), 'succinimide': np.float64(-0.0036417227725382725), 'thymine': np.float64(0.019546409025144654), 'syringic acid': np.float64(-0.00017895534268828802), 'serotonin': np.float64(-0.0677695719428445), 'ribitol': np.float64(-0.0049548397240547545)}, {'xylose': np.float64(-0.05929207779666153), 'xanthosine': np.float64(0.00045812681156311673), 'uracil': np.float64(-0.013139778798816646), 'ribulose/xylulose': np.float64(-0.07180246474856226), 'valylglutamine': np.float64(-7.36911930984355e-05), 'tryptophylglycine': np.float64(-0.0011767123931335779), 'succinate': np.float64(-0.0044212430942377695), 'valine betaine': np.float64(0.007594775388157681), 'ursodeoxycholate sulfate (1)': np.float64(-8.539827369534614e-05), 'tricarballylate': np.float64(5.759671113277279e-06), 'succinimide': np.float64(-0.0014031996410371337), 'thymine': np.float64(-0.019306255753815407), 'syringic acid': np.float64(-0.00013271837260771992), 'serotonin': np.float64(0.029929506010345004), 'ribitol': np.float64(0.0013086757612227535)}, {'xylose': np.float64(0.08588109825700385), 'xanthosine': np.float64(-0.0041767466963514984), 'uracil': np.float64(0.00666939550726072), 'ribulose/xylulose': np.float64(0.08453981169515142), 'valylglutamine': np.float64(-0.00011653923311320813), 'tryptophylglycine': np.float64(0.0005176331152601794), 'succinate': np.float64(-0.002169911457667473), 'valine betaine': np.float64(0.02499021782732204), 'ursodeoxycholate sulfate (1)': np.float64(-0.0001638945181706263), 'tricarballylate': np.float64(0.0006767072233645356), 'succinimide': np.float64(-0.00038231995400957603), 'thymine': np.float64(0.004165844211611124), 'syringic acid': np.float64(0.00015813992391920298), 'serotonin': np.float64(-0.02365435253301255), 'ribitol': np.float64(-0.001883856685526805)}, {'xylose': np.float64(0.17161451262084185), 'xanthosine': np.float64(-0.0012263031873033865), 'uracil': np.float64(0.007152010619604672), 'ribulose/xylulose': np.float64(0.10930303678407667), 'valylglutamine': np.float64(5.40885600147141e-06), 'tryptophylglycine': np.float64(0.0007713237962964795), 'succinate': np.float64(0.002307366395269285), 'valine betaine': np.float64(0.0031453730993472244), 'ursodeoxycholate sulfate (1)': np.float64(0.00017978216484245134), 'tricarballylate': np.float64(-0.00014768852746564485), 'succinimide': np.float64(0.0025392556352178716), 'thymine': np.float64(-0.003839405634224571), 'syringic acid': np.float64(0.00016728897260492154), 'serotonin': np.float64(-0.012043030721182743), 'ribitol': np.float64(-0.002648364100616893)}, {'xylose': np.float64(-0.03262980912398894), 'xanthosine': np.float64(0.002310882717582107), 'uracil': np.float64(0.003664711358492658), 'ribulose/xylulose': np.float64(-0.035727473525320144), 'valylglutamine': np.float64(-0.00018516418346650626), 'tryptophylglycine': np.float64(0.00011700047521527142), 'succinate': np.float64(-0.004317447046264903), 'valine betaine': np.float64(-0.01535887313974919), 'ursodeoxycholate sulfate (1)': np.float64(2.9376486446541168e-05), 'tricarballylate': np.float64(8.048441302879943e-05), 'succinimide': np.float64(-7.813612448972381e-05), 'thymine': np.float64(-0.004156576307416006), 'syringic acid': np.float64(0.00012024861817066757), 'serotonin': np.float64(0.024943885708056498), 'ribitol': np.float64(0.0014574554327012473)}, {'xylose': np.float64(0.16978474501240076), 'xanthosine': np.float64(-0.006816109101325549), 'uracil': np.float64(0.008622860435471242), 'ribulose/xylulose': np.float64(0.0647672200145601), 'valylglutamine': np.float64(0.0005508100700417465), 'tryptophylglycine': np.float64(0.0019032848755622367), 'succinate': np.float64(0.021917671750613175), 'valine betaine': np.float64(0.011082132361250902), 'ursodeoxycholate sulfate (1)': np.float64(-0.00010904237501503567), 'tricarballylate': np.float64(0.0005428935464380732), 'succinimide': np.float64(0.006283020533492538), 'thymine': np.float64(0.014433189536248139), 'syringic acid': np.float64(0.00037225253647211066), 'serotonin': np.float64(0.04609538227718899), 'ribitol': np.float64(0.005558203003547532)}, {'xylose': np.float64(0.12066080028891091), 'xanthosine': np.float64(0.00030032358932122633), 'uracil': np.float64(-0.002900919537972741), 'ribulose/xylulose': np.float64(0.12509328467741282), 'valylglutamine': np.float64(0.000830822087113729), 'tryptophylglycine': np.float64(0.0006516735902901618), 'succinate': np.float64(-0.002634401317560261), 'valine betaine': np.float64(-0.001358076895612179), 'ursodeoxycholate sulfate (1)': np.float64(-0.00010329259711273485), 'tricarballylate': np.float64(-0.0003441659947158313), 'succinimide': np.float64(-0.00048084209748724754), 'thymine': np.float64(0.005949519287684805), 'syringic acid': np.float64(-0.00040643704349682506), 'serotonin': np.float64(0.06660438815139479), 'ribitol': np.float64(0.002587598750536669)}, {'xylose': np.float64(0.09699671512135774), 'xanthosine': np.float64(-0.00118626188042235), 'uracil': np.float64(0.014934746501354075), 'ribulose/xylulose': np.float64(0.07429163323349522), 'valylglutamine': np.float64(-6.889495082091542e-05), 'tryptophylglycine': np.float64(-0.00040419874799450323), 'succinate': np.float64(0.011673896490073313), 'valine betaine': np.float64(0.013506175495376867), 'ursodeoxycholate sulfate (1)': np.float64(0.00024888835780827087), 'tricarballylate': np.float64(0.00026023447431760096), 'succinimide': np.float64(-0.0007940352114059349), 'thymine': np.float64(0.015341468143506376), 'syringic acid': np.float64(0.0006380960093134879), 'serotonin': np.float64(-0.020889756906316552), 'ribitol': np.float64(-0.0006517667442707634)}, {'xylose': np.float64(0.06476023491492816), 'xanthosine': np.float64(0.0003425807283215057), 'uracil': np.float64(0.0006373101990940916), 'ribulose/xylulose': np.float64(0.06528036366797707), 'valylglutamine': np.float64(2.503953747560342e-05), 'tryptophylglycine': np.float64(0.0009427405695176647), 'succinate': np.float64(0.012257388161929325), 'valine betaine': np.float64(-0.026997537028309274), 'ursodeoxycholate sulfate (1)': np.float64(-1.946413864281168e-06), 'tricarballylate': np.float64(0.00019746026326074404), 'succinimide': np.float64(0.002276557401064254), 'thymine': np.float64(0.00969420651555487), 'syringic acid': np.float64(-0.00035820643866709426), 'serotonin': np.float64(0.009720554744709276), 'ribitol': np.float64(-0.004336337019149519)}, {'xylose': np.float64(0.08437781224248639), 'xanthosine': np.float64(-5.0700380281342114e-05), 'uracil': np.float64(-0.019254091744998023), 'ribulose/xylulose': np.float64(0.19126029374327091), 'valylglutamine': np.float64(-0.0005784658212020612), 'tryptophylglycine': np.float64(-0.002571935721466889), 'succinate': np.float64(-0.06704786603922411), 'valine betaine': np.float64(0.02128634911183171), 'ursodeoxycholate sulfate (1)': np.float64(-0.00032382868218223807), 'tricarballylate': np.float64(0.00012348184486504004), 'succinimide': np.float64(-0.0037766112220674426), 'thymine': np.float64(-0.0014883490521413157), 'syringic acid': np.float64(-0.0010653664207696488), 'serotonin': np.float64(-0.12192650993526466), 'ribitol': np.float64(-0.00019952223223428537)}, {'xylose': np.float64(0.11297962821777423), 'xanthosine': np.float64(-0.002170591301804448), 'uracil': np.float64(-0.008555154660123535), 'ribulose/xylulose': np.float64(0.09710417292490635), 'valylglutamine': np.float64(5.8913734680972454e-05), 'tryptophylglycine': np.float64(-0.0001462693285780979), 'succinate': np.float64(0.0012440970742449073), 'valine betaine': np.float64(0.014369379963877334), 'ursodeoxycholate sulfate (1)': np.float64(0.00019080434698605326), 'tricarballylate': np.float64(0.00012669164523720054), 'succinimide': np.float64(-0.0020833984023001244), 'thymine': np.float64(0.0010752159468377053), 'syringic acid': np.float64(0.0003543968252104922), 'serotonin': np.float64(-0.018767291995792672), 'ribitol': np.float64(0.004230736946108145)}, {'xylose': np.float64(-0.0012336426562746595), 'xanthosine': np.float64(-3.646580848910883e-05), 'uracil': np.float64(0.00017660261102619236), 'ribulose/xylulose': np.float64(-0.0015288514238462848), 'valylglutamine': np.float64(-1.3668751005292506e-06), 'tryptophylglycine': np.float64(5.575065695927591e-06), 'succinate': np.float64(-0.00035293979085527843), 'valine betaine': np.float64(-3.9236657669800646e-05), 'ursodeoxycholate sulfate (1)': np.float64(-4.1978923585684376e-06), 'tricarballylate': np.float64(-8.71607506710168e-06), 'succinimide': np.float64(-1.1406514214169218e-05), 'thymine': np.float64(0.0002210908724315353), 'syringic acid': np.float64(-3.976093928480766e-07), 'serotonin': np.float64(0.0007634335950398078), 'ribitol': np.float64(-1.1471414483383897e-05)}, {'xylose': np.float64(-0.032675585135108765), 'xanthosine': np.float64(-0.0010325752045077048), 'uracil': np.float64(-0.021617937123328643), 'ribulose/xylulose': np.float64(-0.08524026452766263), 'valylglutamine': np.float64(0.0002867037658848768), 'tryptophylglycine': np.float64(-0.0013657338962321187), 'succinate': np.float64(0.00414036238068944), 'valine betaine': np.float64(0.004232949664292754), 'ursodeoxycholate sulfate (1)': np.float64(-0.00017857166101498944), 'tricarballylate': np.float64(-0.0001338125702336123), 'succinimide': np.float64(-0.0008080128699874382), 'thymine': np.float64(-0.0020031220072590176), 'syringic acid': np.float64(-0.000750168322511525), 'serotonin': np.float64(0.06160060119446319), 'ribitol': np.float64(0.01135816186394438)}, {'xylose': np.float64(-0.40809685264664175), 'xanthosine': np.float64(0.002454407446504642), 'uracil': np.float64(-0.0737331498924001), 'ribulose/xylulose': np.float64(0.12308563270743184), 'valylglutamine': np.float64(-0.0021139830525487265), 'tryptophylglycine': np.float64(0.003386471392408396), 'succinate': np.float64(0.05908259645497793), 'valine betaine': np.float64(0.1326808104496386), 'ursodeoxycholate sulfate (1)': np.float64(-0.00011930001442223862), 'tricarballylate': np.float64(0.002969613709186654), 'succinimide': np.float64(-0.016820897908407656), 'thymine': np.float64(-0.1284167021221388), 'syringic acid': np.float64(0.0053501108917585714), 'serotonin': np.float64(0.5367960441640375), 'ribitol': np.float64(-0.10251496897611986)}, {'xylose': np.float64(0.03925227131096449), 'xanthosine': np.float64(-0.001420590644472808), 'uracil': np.float64(0.0021636766246524806), 'ribulose/xylulose': np.float64(0.030970964239258176), 'valylglutamine': np.float64(0.0001590760225304966), 'tryptophylglycine': np.float64(0.0003721333517750456), 'succinate': np.float64(-0.001819885554636137), 'valine betaine': np.float64(-0.024184749563969054), 'ursodeoxycholate sulfate (1)': np.float64(-0.00015210586068512517), 'tricarballylate': np.float64(0.00013013085658614948), 'succinimide': np.float64(-0.0008594897266993902), 'thymine': np.float64(0.002661009052272623), 'syringic acid': np.float64(-0.00010002931946433173), 'serotonin': np.float64(0.0003028360380075592), 'ribitol': np.float64(0.0024836583712174163)}, {'xylose': np.float64(-0.06671622027694156), 'xanthosine': np.float64(-0.00848768360586823), 'uracil': np.float64(0.0005352736651004185), 'ribulose/xylulose': np.float64(-0.09393233828180737), 'valylglutamine': np.float64(3.169250201357278e-05), 'tryptophylglycine': np.float64(0.0015531384713748804), 'succinate': np.float64(-0.021014538906532165), 'valine betaine': np.float64(-0.0009740774724138778), 'ursodeoxycholate sulfate (1)': np.float64(0.0002597990366702501), 'tricarballylate': np.float64(0.00016043636818956477), 'succinimide': np.float64(0.002004789910558533), 'thymine': np.float64(-0.03374896451669482), 'syringic acid': np.float64(-0.0006386851351320704), 'serotonin': np.float64(0.0016192746687485615), 'ribitol': np.float64(0.006434617272680471)}, {'xylose': np.float64(0.07046324928965828), 'xanthosine': np.float64(-0.0024475533217280616), 'uracil': np.float64(0.002946883638653953), 'ribulose/xylulose': np.float64(0.059199418215566894), 'valylglutamine': np.float64(-0.00010794257253304882), 'tryptophylglycine': np.float64(-0.00023495318319217233), 'succinate': np.float64(0.004711575869422883), 'valine betaine': np.float64(0.011809451577681082), 'ursodeoxycholate sulfate (1)': np.float64(7.31328019000778e-05), 'tricarballylate': np.float64(-0.0005218865988377196), 'succinimide': np.float64(5.7455729194113936e-05), 'thymine': np.float64(0.002223898061451907), 'syringic acid': np.float64(5.697658730934411e-05), 'serotonin': np.float64(-0.020864603617406722), 'ribitol': np.float64(-0.0006058032294089357)}, {'xylose': np.float64(-0.10406803343829878), 'xanthosine': np.float64(-0.003609191986070169), 'uracil': np.float64(-0.020548856259661203), 'ribulose/xylulose': np.float64(-0.11350529703063693), 'valylglutamine': np.float64(1.6201601761401278e-05), 'tryptophylglycine': np.float64(0.001420445127058392), 'succinate': np.float64(-0.00928218538775026), 'valine betaine': np.float64(-0.015551707889490576), 'ursodeoxycholate sulfate (1)': np.float64(-0.00018623681765553757), 'tricarballylate': np.float64(-0.0003156410746580656), 'succinimide': np.float64(0.0001914647018194024), 'thymine': np.float64(-0.0010524693576076263), 'syringic acid': np.float64(-0.0010222847382539368), 'serotonin': np.float64(0.04174928706101933), 'ribitol': np.float64(-0.008268944181592514)}, {'xylose': np.float64(-0.18142315919576527), 'xanthosine': np.float64(-0.0014070711485102264), 'uracil': np.float64(-0.010119523402044627), 'ribulose/xylulose': np.float64(-0.09620119352357255), 'valylglutamine': np.float64(0.0005563923610741288), 'tryptophylglycine': np.float64(0.0008825096939997854), 'succinate': np.float64(-0.007334174283005067), 'valine betaine': np.float64(0.02204759082777463), 'ursodeoxycholate sulfate (1)': np.float64(-0.0003204535230394233), 'tricarballylate': np.float64(-4.323543044940157e-05), 'succinimide': np.float64(-0.003621478639720512), 'thymine': np.float64(-0.011881259322922333), 'syringic acid': np.float64(-3.8509051702852984e-05), 'serotonin': np.float64(-0.023423801729260663), 'ribitol': np.float64(-0.008917163888953392)}]\n"
     ]
    }
   ],
   "source": [
    "import pickle\n",
    "\n",
    "# Define the path to the pickle file\n",
    "file_path = '../../../result/phi_normalized_list.pkl'\n",
    "\n",
    "# Load the data\n",
    "with open(file_path, 'rb') as f:\n",
    "    phi_normalized_list = pickle.load(f)\n",
    "\n",
    "# Print or inspect the loaded data\n",
    "print(phi_normalized_list)\n"
   ]
  },
  {
   "cell_type": "code",
   "execution_count": 5,
   "metadata": {},
   "outputs": [
    {
     "name": "stdout",
     "output_type": "stream",
     "text": [
      "{'xylose': np.float64(0.13191601957276358), 'xanthosine': np.float64(-0.0012302754555192817), 'uracil': np.float64(-0.009612534286256316), 'ribulose/xylulose': np.float64(0.1398052719723667), 'valylglutamine': np.float64(-7.386755808860697e-05), 'tryptophylglycine': np.float64(0.0008794064947207714), 'succinate': np.float64(0.006962600356634677), 'valine betaine': np.float64(-0.0013035280526786234), 'ursodeoxycholate sulfate (1)': np.float64(-0.00032805778442085074), 'tricarballylate': np.float64(-0.00047464718617616045), 'succinimide': np.float64(-0.0004265953665802729), 'thymine': np.float64(0.007043544021562201), 'syringic acid': np.float64(0.0001624039492915659), 'serotonin': np.float64(-0.00980120401788335), 'ribitol': np.float64(-0.001182095205551476)}\n"
     ]
    }
   ],
   "source": [
    "print(phi_normalized_list[0])"
   ]
  },
  {
   "cell_type": "code",
   "execution_count": 35,
   "metadata": {},
   "outputs": [
    {
     "name": "stdout",
     "output_type": "stream",
     "text": [
      "[('xylose', np.float64(0.14249255678910933)), ('ribulose/xylulose', np.float64(0.1324045675579535)), ('serotonin', np.float64(0.08015593469032148)), ('valine betaine', np.float64(0.024109210282489253)), ('thymine', np.float64(0.01845642393468088)), ('succinate', np.float64(0.01434662259345521)), ('ribitol', np.float64(0.01244294416240047)), ('uracil', np.float64(0.010309077873849807)), ('succinimide', np.float64(0.004449842958519002)), ('xanthosine', np.float64(0.0037146766543883904)), ('tryptophylglycine', np.float64(0.0012059463203196253)), ('valylglutamine', np.float64(0.0007212578112272749)), ('tricarballylate', np.float64(0.0006481119920928386)), ('syringic acid', np.float64(0.0005111378807435147)), ('ursodeoxycholate sulfate (1)', np.float64(0.0003253555581938992))]\n"
     ]
    }
   ],
   "source": [
    "sums = {}\n",
    "counts = {}\n",
    "\n",
    "for instance in phi_normalized_list:\n",
    "    for metabolite, value in instance.items():\n",
    "        sums[metabolite] = sums.get(metabolite, 0) + abs(value)\n",
    "        counts[metabolite] = counts.get(metabolite, 0) + 1\n",
    "\n",
    "means = {metabolite: sums[metabolite] / counts[metabolite] for metabolite in sums}\n",
    "\n",
    "sorted_means = sorted(means.items(), key=lambda item: abs(item[1]), reverse=True)\n",
    "\n",
    "causal_output_list = [(metabolite, mean_value) for metabolite, mean_value in sorted_means]\n",
    "\n",
    "print(causal_output_list)"
   ]
  },
  {
   "cell_type": "markdown",
   "metadata": {},
   "source": [
    "Original SHAP"
   ]
  },
  {
   "cell_type": "code",
   "execution_count": 15,
   "metadata": {},
   "outputs": [
    {
     "name": "stderr",
     "output_type": "stream",
     "text": [
      "c:\\Users\\snorl\\Desktop\\FYP\\venv\\Lib\\site-packages\\tqdm\\auto.py:21: TqdmWarning: IProgress not found. Please update jupyter and ipywidgets. See https://ipywidgets.readthedocs.io/en/stable/user_install.html\n",
      "  from .autonotebook import tqdm as notebook_tqdm\n",
      "DEBUG:matplotlib:matplotlib data path: c:\\Users\\snorl\\Desktop\\FYP\\venv\\Lib\\site-packages\\matplotlib\\mpl-data\n",
      "DEBUG:matplotlib:CONFIGDIR=C:\\Users\\snorl\\.matplotlib\n",
      "DEBUG:matplotlib:interactive is False\n",
      "DEBUG:matplotlib:platform is win32\n",
      "DEBUG:matplotlib:CACHEDIR=C:\\Users\\snorl\\.matplotlib\n",
      "DEBUG:matplotlib.font_manager:Using fontManager instance from C:\\Users\\snorl\\.matplotlib\\fontlist-v390.json\n",
      "DEBUG:pydot:pydot initializing\n",
      "DEBUG:pydot:pydot 3.0.2\n",
      "DEBUG:pydot.dot_parser:pydot dot_parser module initializing\n",
      "DEBUG:pydot.core:pydot core module initializing\n"
     ]
    }
   ],
   "source": [
    "import argparse\n",
    "from pathlib import Path\n",
    "from data_processing import DataProcessor\n",
    "from models import ModelTrainer\n",
    "from feature_selection import FeatureSelector\n",
    "from visualization import Visualizer\n",
    "from causal_inference import CausalInference\n",
    "import shap\n",
    "from sklearn.preprocessing import StandardScaler\n",
    "import numpy as np\n",
    "import pandas as pd\n",
    "import matplotlib\n",
    "from evaluation import iterative_feature_deletion_with_rmse, iterative_feature_addition_with_rmse\n",
    "\n",
    "import warnings\n",
    "warnings.filterwarnings(\"ignore\")\n",
    "\n"
   ]
  },
  {
   "cell_type": "code",
   "execution_count": 18,
   "metadata": {},
   "outputs": [
    {
     "name": "stdout",
     "output_type": "stream",
     "text": [
      "Starting ML Pipeline...\n",
      "Base directory set to: ../../../\n",
      "Loading data...\n",
      "Data loaded successfully.\n",
      "Encoding labels...\n",
      "Labels encoded successfully.\n"
     ]
    }
   ],
   "source": [
    "print(\"Starting ML Pipeline...\")\n",
    "base_dir = '../../../'\n",
    "print(f\"Base directory set to: {base_dir}\")\n",
    "\n",
    "data_path = base_dir + 'dataset/' + 'data_full.xlsx'\n",
    "raw_data_path = base_dir + 'dataset/' + 'result_raw.xlsx'\n",
    "result_dir = base_dir + 'result/R/'\n",
    "\n",
    "report_file_path = result_dir + 'report.txt'\n",
    "\n",
    "print(\"Loading data...\")\n",
    "data_processor = DataProcessor(data_path=str(data_path))\n",
    "df = data_processor.load_data_metabolites()\n",
    "print(\"Data loaded successfully.\")\n",
    "\n",
    "print(\"Encoding labels...\")\n",
    "df_encoded, label_encoder = data_processor.encode_labels(df, label_column='Group')\n",
    "print(\"Labels encoded successfully.\")\n",
    "X = df_encoded.drop(columns=['Group'])\n",
    "y = df_encoded['Group']"
   ]
  },
  {
   "cell_type": "code",
   "execution_count": 19,
   "metadata": {},
   "outputs": [
    {
     "name": "stdout",
     "output_type": "stream",
     "text": [
      "Training Random Forest model...\n",
      "Fitting 3 folds for each of 50 candidates, totalling 150 fits\n"
     ]
    }
   ],
   "source": [
    "X = X[[\"xylose\", \"xanthosine\", \"uracil\", \"ribulose/xylulose\", \"valylglutamine\", \"tryptophylglycine\", \"succinate\", \"valine betaine\", \"ursodeoxycholate sulfate (1)\", \"tricarballylate\",\"succinimide\", \"thymine\", \"syringic acid\", \"serotonin\", \"ribitol\" ]]\n",
    "\n",
    "y = df_encoded['Group']\n",
    "\n",
    "print(\"Training Random Forest model...\")\n",
    "param_dist = {\n",
    "    'n_estimators': [100, 200, 300],\n",
    "    'max_depth': [10, 20, 30, None],\n",
    "    'min_samples_split': [2, 5, 7],\n",
    "    'min_samples_leaf': [1, 2, 4]\n",
    "}\n",
    "model_trainer = ModelTrainer(X, y)\n",
    "model, best_params = model_trainer.train_random_forest(param_dist)"
   ]
  },
  {
   "cell_type": "code",
   "execution_count": 34,
   "metadata": {},
   "outputs": [
    {
     "name": "stdout",
     "output_type": "stream",
     "text": [
      "Applying SHAP for explainability...\n",
      "[('xylose', np.float64(0.10000743516657166)), ('serotonin', np.float64(0.060477922572854365)), ('ribulose/xylulose', np.float64(0.05253665230959996)), ('ribitol', np.float64(0.04543462194515541)), ('valine betaine', np.float64(0.016420123335110476)), ('thymine', np.float64(0.010505644627664878)), ('tryptophylglycine', np.float64(0.007556361510496572)), ('syringic acid', np.float64(0.004192226959253276)), ('tricarballylate', np.float64(0.0033999778656198035)), ('uracil', np.float64(0.0023097257251424707)), ('succinimide', np.float64(0.0022228713183267248)), ('xanthosine', np.float64(0.002033165061445743)), ('succinate', np.float64(0.0018616566714058536)), ('ursodeoxycholate sulfate (1)', np.float64(0.0006252102878079313)), ('valylglutamine', np.float64(0.0001221017460420626))]\n"
     ]
    }
   ],
   "source": [
    "print(\"Applying SHAP for explainability...\")\n",
    "\n",
    "explainer = shap.TreeExplainer(model, model_trainer.X_train)\n",
    "\n",
    "shap_values = explainer.shap_values(model_trainer.X_test)\n",
    "\n",
    "feature_names = model_trainer.X_test.columns\n",
    "\n",
    "mean_abs_shap_values = np.mean(np.abs(shap_values[1]), axis=1)\n",
    "\n",
    "shap_importance = list(zip(feature_names, mean_abs_shap_values))\n",
    "\n",
    "shap_importance_sorted = sorted(shap_importance, key=lambda x: x[1], reverse=True)\n",
    "\n",
    "shap_output_list = [(feature, importance) for feature, importance in shap_importance_sorted]\n",
    "\n",
    "print(shap_output_list)\n",
    "    \n"
   ]
  },
  {
   "cell_type": "code",
   "execution_count": null,
   "metadata": {},
   "outputs": [
    {
     "name": "stdout",
     "output_type": "stream",
     "text": [
      "[('xylose', np.float64(0.14249255678910933)), ('ribulose/xylulose', np.float64(0.1324045675579535)), ('serotonin', np.float64(0.08015593469032148)), ('valine betaine', np.float64(0.024109210282489253)), ('thymine', np.float64(0.01845642393468088)), ('succinate', np.float64(0.01434662259345521)), ('ribitol', np.float64(0.01244294416240047)), ('uracil', np.float64(0.010309077873849807)), ('succinimide', np.float64(0.004449842958519002)), ('xanthosine', np.float64(0.0037146766543883904)), ('tryptophylglycine', np.float64(0.0012059463203196253)), ('valylglutamine', np.float64(0.0007212578112272749)), ('tricarballylate', np.float64(0.0006481119920928386)), ('syringic acid', np.float64(0.0005111378807435147)), ('ursodeoxycholate sulfate (1)', np.float64(0.0003253555581938992))]\n",
      "[('xylose', np.float64(0.10000743516657166)), ('serotonin', np.float64(0.060477922572854365)), ('ribulose/xylulose', np.float64(0.05253665230959996)), ('ribitol', np.float64(0.04543462194515541)), ('valine betaine', np.float64(0.016420123335110476)), ('thymine', np.float64(0.010505644627664878)), ('tryptophylglycine', np.float64(0.007556361510496572)), ('syringic acid', np.float64(0.004192226959253276)), ('tricarballylate', np.float64(0.0033999778656198035)), ('uracil', np.float64(0.0023097257251424707)), ('succinimide', np.float64(0.0022228713183267248)), ('xanthosine', np.float64(0.002033165061445743)), ('succinate', np.float64(0.0018616566714058536)), ('ursodeoxycholate sulfate (1)', np.float64(0.0006252102878079313)), ('valylglutamine', np.float64(0.0001221017460420626))]\n"
     ]
    }
   ],
   "source": [
    "print(causal_output_list)\n",
    "print(shap_output_list)"
   ]
  },
  {
   "cell_type": "code",
   "execution_count": 38,
   "metadata": {},
   "outputs": [],
   "source": [
    "import numpy as np\n",
    "import pandas as pd\n",
    "from sklearn.metrics import mean_squared_error\n",
    "\n",
    "def iterative_feature_deletion_with_rmse_over_testset(model, X_test, attribution_scores, top_k=None):\n",
    "    \"\"\"\n",
    "    Iteratively deletes features based on attribution scores and computes the average RMSE over all instances in the test set.\n",
    "\n",
    "    Parameters:\n",
    "    - model: Trained Scikit-learn classifier.\n",
    "    - X_test (pd.DataFrame): Test set features.\n",
    "    - attribution_scores (dict): Feature attributions (e.g., SHAP values).\n",
    "    - top_k (int): Number of top features to delete. If None, deletes all features.\n",
    "\n",
    "    Returns:\n",
    "    - avg_rmse (float): Average RMSE after deletions over the test set.\n",
    "    \"\"\"\n",
    "    if top_k is None:\n",
    "        top_k = X_test.shape[1]\n",
    "\n",
    "    # Ensure attribution_scores is a dict\n",
    "    if not isinstance(attribution_scores, dict):\n",
    "        raise TypeError(\"Attribution scores must be a dictionary with feature names as keys and scores as values.\")\n",
    "\n",
    "    # Sort features by absolute attribution scores in descending order\n",
    "    sorted_features = sorted(X_test.columns, key=lambda x: -abs(attribution_scores.get(x, 0)))\n",
    "\n",
    "    # List to store RMSE values for each instance\n",
    "    rmse_values = []\n",
    "\n",
    "    # Iterate over each instance in the test set\n",
    "    for index, input_features in X_test.iterrows():\n",
    "        # Original prediction probability for class 1\n",
    "        y_predicted = model.predict_proba([input_features.values])[0][1]\n",
    "\n",
    "        # Copy the input features to modify\n",
    "        modified_input = input_features.copy().astype(float)\n",
    "\n",
    "        # List to store RMSE values at each step for this instance\n",
    "        instance_rmse_values = []\n",
    "\n",
    "        # Iteratively delete features and compute RMSE\n",
    "        for i in range(top_k):\n",
    "            feature_to_delete = sorted_features[i]\n",
    "            modified_input[feature_to_delete] = 0.0  # Set feature to zero\n",
    "            prediction = model.predict_proba([modified_input.values])[0][1]\n",
    "            rmse = np.sqrt(mean_squared_error([y_predicted], [prediction]))\n",
    "            instance_rmse_values.append(rmse)\n",
    "\n",
    "        # Average RMSE for this instance\n",
    "        instance_avg_rmse = np.mean(instance_rmse_values)\n",
    "        rmse_values.append(instance_avg_rmse)\n",
    "\n",
    "    # Compute overall average RMSE across all instances\n",
    "    overall_avg_rmse = np.mean(rmse_values)\n",
    "    return overall_avg_rmse\n",
    "\n",
    "\n",
    "def iterative_feature_addition_with_rmse_over_testset(model, X_test, attribution_scores, top_k=None):\n",
    "    \"\"\"\n",
    "    Iteratively adds features based on attribution scores and computes the average RMSE over all instances in the test set.\n",
    "\n",
    "    Parameters:\n",
    "    - model: Trained Scikit-learn classifier.\n",
    "    - X_test (pd.DataFrame): Test set features.\n",
    "    - attribution_scores (dict): Feature attributions (e.g., SHAP values).\n",
    "    - top_k (int): Number of top features to add. If None, adds all features.\n",
    "\n",
    "    Returns:\n",
    "    - avg_rmse (float): Average RMSE after additions over the test set.\n",
    "    \"\"\"\n",
    "    if top_k is None:\n",
    "        top_k = X_test.shape[1]\n",
    "\n",
    "    # Ensure attribution_scores is a dict\n",
    "    if not isinstance(attribution_scores, dict):\n",
    "        raise TypeError(\"Attribution scores must be a dictionary with feature names as keys and scores as values.\")\n",
    "\n",
    "    # Sort features by absolute attribution scores in descending order\n",
    "    sorted_features = sorted(X_test.columns, key=lambda x: -abs(attribution_scores.get(x, 0)))\n",
    "\n",
    "    # List to store RMSE values for each instance\n",
    "    rmse_values = []\n",
    "\n",
    "    # Iterate over each instance in the test set\n",
    "    for index, input_features in X_test.iterrows():\n",
    "        # Original prediction probability for class 1\n",
    "        y_predicted = model.predict_proba([input_features.values])[0][1]\n",
    "\n",
    "        # Initialize modified input with zeros\n",
    "        modified_input = pd.Series(0.0, index=input_features.index)\n",
    "\n",
    "        # List to store RMSE values at each step for this instance\n",
    "        instance_rmse_values = []\n",
    "\n",
    "        # Iteratively add features and compute RMSE\n",
    "        for i in range(top_k):\n",
    "            feature_to_add = sorted_features[i]\n",
    "            modified_input[feature_to_add] = input_features[feature_to_add].astype(float)\n",
    "            prediction = model.predict_proba([modified_input.values])[0][1]\n",
    "            rmse = np.sqrt(mean_squared_error([y_predicted], [prediction]))\n",
    "            instance_rmse_values.append(rmse)\n",
    "\n",
    "        # Average RMSE for this instance\n",
    "        instance_avg_rmse = np.mean(instance_rmse_values)\n",
    "        rmse_values.append(instance_avg_rmse)\n",
    "\n",
    "    # Compute overall average RMSE across all instances\n",
    "    overall_avg_rmse = np.mean(rmse_values)\n",
    "    return overall_avg_rmse\n",
    "\n"
   ]
  },
  {
   "cell_type": "code",
   "execution_count": 39,
   "metadata": {},
   "outputs": [],
   "source": [
    "# Convert causal_output_list to a dictionary\n",
    "causal_attribution_scores = dict(causal_output_list)\n",
    "\n",
    "# Convert shap_output_list to a dictionary\n",
    "shap_attribution_scores = dict(shap_output_list)\n"
   ]
  },
  {
   "cell_type": "code",
   "execution_count": null,
   "metadata": {},
   "outputs": [],
   "source": [
    "# Compute RMSE over the test set using causal attributions\n",
    "causal_rmse_deletion = iterative_feature_deletion_with_rmse_over_testset(\n",
    "    model, model_trainer.X_test, causal_attribution_scores)\n",
    "\n",
    "causal_rmse_addition = iterative_feature_addition_with_rmse_over_testset(\n",
    "    model, model_trainer.X_test, causal_attribution_scores)\n",
    "\n",
    "# Compute RMSE over the test set using SHAP attributions\n",
    "shap_rmse_deletion = iterative_feature_deletion_with_rmse_over_testset(\n",
    "    model, model_trainer.X_test, shap_attribution_scores)\n",
    "\n",
    "shap_rmse_addition = iterative_feature_addition_with_rmse_over_testset(\n",
    "    model, model_trainer.X_test, shap_attribution_scores)\n",
    "\n"
   ]
  },
  {
   "cell_type": "code",
   "execution_count": 42,
   "metadata": {},
   "outputs": [
    {
     "name": "stdout",
     "output_type": "stream",
     "text": [
      "Using Global Score to sort Features\n",
      "SHAP RMSE after feature deletion over test set: 0.19212695621359016\n",
      "Causal RMSE after feature deletion over test set: 0.19743585361592064\n",
      "SHAP RMSE after feature addition over test set: 0.09998943786572828\n",
      "Causal RMSE after feature addition over test set: 0.0874046547044305\n"
     ]
    }
   ],
   "source": [
    "print(\"Using Global Score to sort Features\")\n",
    "print(\"SHAP RMSE after feature deletion over test set:\", shap_rmse_deletion)\n",
    "print(\"Causal RMSE after feature deletion over test set:\", causal_rmse_deletion)\n",
    "print(\"SHAP RMSE after feature addition over test set:\", shap_rmse_addition)\n",
    "print(\"Causal RMSE after feature addition over test set:\", causal_rmse_addition)"
   ]
  }
 ],
 "metadata": {
  "kernelspec": {
   "display_name": "venv",
   "language": "python",
   "name": "python3"
  },
  "language_info": {
   "codemirror_mode": {
    "name": "ipython",
    "version": 3
   },
   "file_extension": ".py",
   "mimetype": "text/x-python",
   "name": "python",
   "nbconvert_exporter": "python",
   "pygments_lexer": "ipython3",
   "version": "3.12.0"
  }
 },
 "nbformat": 4,
 "nbformat_minor": 2
}
